{
 "cells": [
  {
   "cell_type": "raw",
   "id": "356655d5",
   "metadata": {},
   "source": [
    "                                                     TEENA JAIN\n",
    "                                                teenajain6@gmail.com\n",
    "                                               BIG MART SALE PREDICTION"
   ]
  },
  {
   "cell_type": "code",
   "execution_count": 1,
   "id": "10ec9388",
   "metadata": {},
   "outputs": [],
   "source": [
    "import numpy as np\n",
    "import pandas as pd\n",
    "import matplotlib.pyplot as plt\n",
    "%matplotlib inline\n",
    "import seaborn as sns"
   ]
  },
  {
   "cell_type": "code",
   "execution_count": 3,
   "id": "7a1a2cf5",
   "metadata": {},
   "outputs": [],
   "source": [
    "df = pd.read_csv(\"Train.csv\")"
   ]
  },
  {
   "cell_type": "code",
   "execution_count": 4,
   "id": "4a27140d",
   "metadata": {},
   "outputs": [
    {
     "data": {
      "text/html": [
       "<div>\n",
       "<style scoped>\n",
       "    .dataframe tbody tr th:only-of-type {\n",
       "        vertical-align: middle;\n",
       "    }\n",
       "\n",
       "    .dataframe tbody tr th {\n",
       "        vertical-align: top;\n",
       "    }\n",
       "\n",
       "    .dataframe thead th {\n",
       "        text-align: right;\n",
       "    }\n",
       "</style>\n",
       "<table border=\"1\" class=\"dataframe\">\n",
       "  <thead>\n",
       "    <tr style=\"text-align: right;\">\n",
       "      <th></th>\n",
       "      <th>Item_Identifier</th>\n",
       "      <th>Item_Weight</th>\n",
       "      <th>Item_Fat_Content</th>\n",
       "      <th>Item_Visibility</th>\n",
       "      <th>Item_Type</th>\n",
       "      <th>Item_MRP</th>\n",
       "      <th>Outlet_Identifier</th>\n",
       "      <th>Outlet_Establishment_Year</th>\n",
       "      <th>Outlet_Size</th>\n",
       "      <th>Outlet_Location_Type</th>\n",
       "      <th>Outlet_Type</th>\n",
       "      <th>Item_Outlet_Sales</th>\n",
       "    </tr>\n",
       "  </thead>\n",
       "  <tbody>\n",
       "    <tr>\n",
       "      <th>0</th>\n",
       "      <td>FDA15</td>\n",
       "      <td>9.30</td>\n",
       "      <td>Low Fat</td>\n",
       "      <td>0.016047</td>\n",
       "      <td>Dairy</td>\n",
       "      <td>249.8092</td>\n",
       "      <td>OUT049</td>\n",
       "      <td>1999</td>\n",
       "      <td>Medium</td>\n",
       "      <td>Tier 1</td>\n",
       "      <td>Supermarket Type1</td>\n",
       "      <td>3735.1380</td>\n",
       "    </tr>\n",
       "    <tr>\n",
       "      <th>1</th>\n",
       "      <td>DRC01</td>\n",
       "      <td>5.92</td>\n",
       "      <td>Regular</td>\n",
       "      <td>0.019278</td>\n",
       "      <td>Soft Drinks</td>\n",
       "      <td>48.2692</td>\n",
       "      <td>OUT018</td>\n",
       "      <td>2009</td>\n",
       "      <td>Medium</td>\n",
       "      <td>Tier 3</td>\n",
       "      <td>Supermarket Type2</td>\n",
       "      <td>443.4228</td>\n",
       "    </tr>\n",
       "    <tr>\n",
       "      <th>2</th>\n",
       "      <td>FDN15</td>\n",
       "      <td>17.50</td>\n",
       "      <td>Low Fat</td>\n",
       "      <td>0.016760</td>\n",
       "      <td>Meat</td>\n",
       "      <td>141.6180</td>\n",
       "      <td>OUT049</td>\n",
       "      <td>1999</td>\n",
       "      <td>Medium</td>\n",
       "      <td>Tier 1</td>\n",
       "      <td>Supermarket Type1</td>\n",
       "      <td>2097.2700</td>\n",
       "    </tr>\n",
       "    <tr>\n",
       "      <th>3</th>\n",
       "      <td>FDX07</td>\n",
       "      <td>19.20</td>\n",
       "      <td>Regular</td>\n",
       "      <td>0.000000</td>\n",
       "      <td>Fruits and Vegetables</td>\n",
       "      <td>182.0950</td>\n",
       "      <td>OUT010</td>\n",
       "      <td>1998</td>\n",
       "      <td>NaN</td>\n",
       "      <td>Tier 3</td>\n",
       "      <td>Grocery Store</td>\n",
       "      <td>732.3800</td>\n",
       "    </tr>\n",
       "    <tr>\n",
       "      <th>4</th>\n",
       "      <td>NCD19</td>\n",
       "      <td>8.93</td>\n",
       "      <td>Low Fat</td>\n",
       "      <td>0.000000</td>\n",
       "      <td>Household</td>\n",
       "      <td>53.8614</td>\n",
       "      <td>OUT013</td>\n",
       "      <td>1987</td>\n",
       "      <td>High</td>\n",
       "      <td>Tier 3</td>\n",
       "      <td>Supermarket Type1</td>\n",
       "      <td>994.7052</td>\n",
       "    </tr>\n",
       "  </tbody>\n",
       "</table>\n",
       "</div>"
      ],
      "text/plain": [
       "  Item_Identifier  Item_Weight Item_Fat_Content  Item_Visibility  \\\n",
       "0           FDA15         9.30          Low Fat         0.016047   \n",
       "1           DRC01         5.92          Regular         0.019278   \n",
       "2           FDN15        17.50          Low Fat         0.016760   \n",
       "3           FDX07        19.20          Regular         0.000000   \n",
       "4           NCD19         8.93          Low Fat         0.000000   \n",
       "\n",
       "               Item_Type  Item_MRP Outlet_Identifier  \\\n",
       "0                  Dairy  249.8092            OUT049   \n",
       "1            Soft Drinks   48.2692            OUT018   \n",
       "2                   Meat  141.6180            OUT049   \n",
       "3  Fruits and Vegetables  182.0950            OUT010   \n",
       "4              Household   53.8614            OUT013   \n",
       "\n",
       "   Outlet_Establishment_Year Outlet_Size Outlet_Location_Type  \\\n",
       "0                       1999      Medium               Tier 1   \n",
       "1                       2009      Medium               Tier 3   \n",
       "2                       1999      Medium               Tier 1   \n",
       "3                       1998         NaN               Tier 3   \n",
       "4                       1987        High               Tier 3   \n",
       "\n",
       "         Outlet_Type  Item_Outlet_Sales  \n",
       "0  Supermarket Type1          3735.1380  \n",
       "1  Supermarket Type2           443.4228  \n",
       "2  Supermarket Type1          2097.2700  \n",
       "3      Grocery Store           732.3800  \n",
       "4  Supermarket Type1           994.7052  "
      ]
     },
     "execution_count": 4,
     "metadata": {},
     "output_type": "execute_result"
    }
   ],
   "source": [
    "df.head()"
   ]
  },
  {
   "cell_type": "code",
   "execution_count": 5,
   "id": "41fbbfda",
   "metadata": {},
   "outputs": [
    {
     "data": {
      "text/plain": [
       "Index(['Item_Identifier', 'Item_Weight', 'Item_Fat_Content', 'Item_Visibility',\n",
       "       'Item_Type', 'Item_MRP', 'Outlet_Identifier',\n",
       "       'Outlet_Establishment_Year', 'Outlet_Size', 'Outlet_Location_Type',\n",
       "       'Outlet_Type', 'Item_Outlet_Sales'],\n",
       "      dtype='object')"
      ]
     },
     "execution_count": 5,
     "metadata": {},
     "output_type": "execute_result"
    }
   ],
   "source": [
    "df.columns"
   ]
  },
  {
   "cell_type": "code",
   "execution_count": 6,
   "id": "8a3cb082",
   "metadata": {},
   "outputs": [
    {
     "data": {
      "text/plain": [
       "Item_Identifier                 0\n",
       "Item_Weight                  1463\n",
       "Item_Fat_Content                0\n",
       "Item_Visibility                 0\n",
       "Item_Type                       0\n",
       "Item_MRP                        0\n",
       "Outlet_Identifier               0\n",
       "Outlet_Establishment_Year       0\n",
       "Outlet_Size                  2410\n",
       "Outlet_Location_Type            0\n",
       "Outlet_Type                     0\n",
       "Item_Outlet_Sales               0\n",
       "dtype: int64"
      ]
     },
     "execution_count": 6,
     "metadata": {},
     "output_type": "execute_result"
    }
   ],
   "source": [
    "train_null = df.isnull().sum()\n",
    "train_null"
   ]
  },
  {
   "cell_type": "code",
   "execution_count": 7,
   "id": "b325987b",
   "metadata": {},
   "outputs": [
    {
     "data": {
      "text/plain": [
       "count    7060.000000\n",
       "mean       12.857645\n",
       "std         4.643456\n",
       "min         4.555000\n",
       "25%         8.773750\n",
       "50%        12.600000\n",
       "75%        16.850000\n",
       "max        21.350000\n",
       "Name: Item_Weight, dtype: float64"
      ]
     },
     "execution_count": 7,
     "metadata": {},
     "output_type": "execute_result"
    }
   ],
   "source": [
    "df[\"Item_Weight\"].describe()"
   ]
  },
  {
   "cell_type": "code",
   "execution_count": 8,
   "id": "4ca015dd",
   "metadata": {},
   "outputs": [],
   "source": [
    "train_dtype= df.dtypes"
   ]
  },
  {
   "cell_type": "code",
   "execution_count": 9,
   "id": "0d6b145a",
   "metadata": {},
   "outputs": [
    {
     "data": {
      "text/plain": [
       "1559"
      ]
     },
     "execution_count": 9,
     "metadata": {},
     "output_type": "execute_result"
    }
   ],
   "source": [
    "df[\"Item_Identifier\"].nunique()"
   ]
  },
  {
   "cell_type": "code",
   "execution_count": 10,
   "id": "37ddfa07",
   "metadata": {},
   "outputs": [],
   "source": [
    "df_test = pd.read_csv(\"Test.csv\")"
   ]
  },
  {
   "cell_type": "code",
   "execution_count": 11,
   "id": "d93bf506",
   "metadata": {},
   "outputs": [],
   "source": [
    "test_null = df_test.isnull().sum()"
   ]
  },
  {
   "cell_type": "code",
   "execution_count": 12,
   "id": "ab81107d",
   "metadata": {},
   "outputs": [
    {
     "data": {
      "text/html": [
       "<div>\n",
       "<style scoped>\n",
       "    .dataframe tbody tr th:only-of-type {\n",
       "        vertical-align: middle;\n",
       "    }\n",
       "\n",
       "    .dataframe tbody tr th {\n",
       "        vertical-align: top;\n",
       "    }\n",
       "\n",
       "    .dataframe thead th {\n",
       "        text-align: right;\n",
       "    }\n",
       "</style>\n",
       "<table border=\"1\" class=\"dataframe\">\n",
       "  <thead>\n",
       "    <tr style=\"text-align: right;\">\n",
       "      <th></th>\n",
       "      <th>Item_Identifier</th>\n",
       "      <th>Item_Weight</th>\n",
       "      <th>Item_Fat_Content</th>\n",
       "      <th>Item_Visibility</th>\n",
       "      <th>Item_Type</th>\n",
       "      <th>Item_MRP</th>\n",
       "      <th>Outlet_Identifier</th>\n",
       "      <th>Outlet_Establishment_Year</th>\n",
       "      <th>Outlet_Size</th>\n",
       "      <th>Outlet_Location_Type</th>\n",
       "      <th>Outlet_Type</th>\n",
       "      <th>Item_Outlet_Sales</th>\n",
       "    </tr>\n",
       "  </thead>\n",
       "  <tbody>\n",
       "    <tr>\n",
       "      <th>0</th>\n",
       "      <td>0.0</td>\n",
       "      <td>1463.0</td>\n",
       "      <td>0.0</td>\n",
       "      <td>0.0</td>\n",
       "      <td>0.0</td>\n",
       "      <td>0.0</td>\n",
       "      <td>0.0</td>\n",
       "      <td>0.0</td>\n",
       "      <td>2410.0</td>\n",
       "      <td>0.0</td>\n",
       "      <td>0.0</td>\n",
       "      <td>0.0</td>\n",
       "    </tr>\n",
       "    <tr>\n",
       "      <th>1</th>\n",
       "      <td>0.0</td>\n",
       "      <td>976.0</td>\n",
       "      <td>0.0</td>\n",
       "      <td>0.0</td>\n",
       "      <td>0.0</td>\n",
       "      <td>0.0</td>\n",
       "      <td>0.0</td>\n",
       "      <td>0.0</td>\n",
       "      <td>1606.0</td>\n",
       "      <td>0.0</td>\n",
       "      <td>0.0</td>\n",
       "      <td>NaN</td>\n",
       "    </tr>\n",
       "  </tbody>\n",
       "</table>\n",
       "</div>"
      ],
      "text/plain": [
       "   Item_Identifier  Item_Weight  Item_Fat_Content  Item_Visibility  Item_Type  \\\n",
       "0              0.0       1463.0               0.0              0.0        0.0   \n",
       "1              0.0        976.0               0.0              0.0        0.0   \n",
       "\n",
       "   Item_MRP  Outlet_Identifier  Outlet_Establishment_Year  Outlet_Size  \\\n",
       "0       0.0                0.0                        0.0       2410.0   \n",
       "1       0.0                0.0                        0.0       1606.0   \n",
       "\n",
       "   Outlet_Location_Type  Outlet_Type  Item_Outlet_Sales  \n",
       "0                   0.0          0.0                0.0  \n",
       "1                   0.0          0.0                NaN  "
      ]
     },
     "execution_count": 12,
     "metadata": {},
     "output_type": "execute_result"
    }
   ],
   "source": [
    "pd.DataFrame([train_null,test_null],)"
   ]
  },
  {
   "cell_type": "code",
   "execution_count": 13,
   "id": "33cf7b7e",
   "metadata": {},
   "outputs": [],
   "source": [
    "test_dtype = df_test.dtypes"
   ]
  },
  {
   "cell_type": "code",
   "execution_count": 14,
   "id": "e9ca3e74",
   "metadata": {},
   "outputs": [
    {
     "data": {
      "text/html": [
       "<div>\n",
       "<style scoped>\n",
       "    .dataframe tbody tr th:only-of-type {\n",
       "        vertical-align: middle;\n",
       "    }\n",
       "\n",
       "    .dataframe tbody tr th {\n",
       "        vertical-align: top;\n",
       "    }\n",
       "\n",
       "    .dataframe thead th {\n",
       "        text-align: right;\n",
       "    }\n",
       "</style>\n",
       "<table border=\"1\" class=\"dataframe\">\n",
       "  <thead>\n",
       "    <tr style=\"text-align: right;\">\n",
       "      <th></th>\n",
       "      <th>Item_Identifier</th>\n",
       "      <th>Item_Weight</th>\n",
       "      <th>Item_Fat_Content</th>\n",
       "      <th>Item_Visibility</th>\n",
       "      <th>Item_Type</th>\n",
       "      <th>Item_MRP</th>\n",
       "      <th>Outlet_Identifier</th>\n",
       "      <th>Outlet_Establishment_Year</th>\n",
       "      <th>Outlet_Size</th>\n",
       "      <th>Outlet_Location_Type</th>\n",
       "      <th>Outlet_Type</th>\n",
       "      <th>Item_Outlet_Sales</th>\n",
       "    </tr>\n",
       "  </thead>\n",
       "  <tbody>\n",
       "    <tr>\n",
       "      <th>0</th>\n",
       "      <td>object</td>\n",
       "      <td>float64</td>\n",
       "      <td>object</td>\n",
       "      <td>float64</td>\n",
       "      <td>object</td>\n",
       "      <td>float64</td>\n",
       "      <td>object</td>\n",
       "      <td>int64</td>\n",
       "      <td>object</td>\n",
       "      <td>object</td>\n",
       "      <td>object</td>\n",
       "      <td>float64</td>\n",
       "    </tr>\n",
       "    <tr>\n",
       "      <th>1</th>\n",
       "      <td>object</td>\n",
       "      <td>float64</td>\n",
       "      <td>object</td>\n",
       "      <td>float64</td>\n",
       "      <td>object</td>\n",
       "      <td>float64</td>\n",
       "      <td>object</td>\n",
       "      <td>int64</td>\n",
       "      <td>object</td>\n",
       "      <td>object</td>\n",
       "      <td>object</td>\n",
       "      <td>NaN</td>\n",
       "    </tr>\n",
       "  </tbody>\n",
       "</table>\n",
       "</div>"
      ],
      "text/plain": [
       "  Item_Identifier Item_Weight Item_Fat_Content Item_Visibility Item_Type  \\\n",
       "0          object     float64           object         float64    object   \n",
       "1          object     float64           object         float64    object   \n",
       "\n",
       "  Item_MRP Outlet_Identifier Outlet_Establishment_Year Outlet_Size  \\\n",
       "0  float64            object                     int64      object   \n",
       "1  float64            object                     int64      object   \n",
       "\n",
       "  Outlet_Location_Type Outlet_Type Item_Outlet_Sales  \n",
       "0               object      object           float64  \n",
       "1               object      object               NaN  "
      ]
     },
     "execution_count": 14,
     "metadata": {},
     "output_type": "execute_result"
    }
   ],
   "source": [
    "pd.DataFrame([train_dtype,test_dtype],)"
   ]
  },
  {
   "cell_type": "code",
   "execution_count": 15,
   "id": "11e9742d",
   "metadata": {},
   "outputs": [
    {
     "data": {
      "text/plain": [
       "Item_Identifier                 0\n",
       "Item_Weight                   976\n",
       "Item_Fat_Content                0\n",
       "Item_Visibility                 0\n",
       "Item_Type                       0\n",
       "Item_MRP                        0\n",
       "Outlet_Identifier               0\n",
       "Outlet_Establishment_Year       0\n",
       "Outlet_Size                  1606\n",
       "Outlet_Location_Type            0\n",
       "Outlet_Type                     0\n",
       "dtype: int64"
      ]
     },
     "execution_count": 15,
     "metadata": {},
     "output_type": "execute_result"
    }
   ],
   "source": [
    "df_test.isnull().sum()"
   ]
  },
  {
   "cell_type": "code",
   "execution_count": 16,
   "id": "35c34150",
   "metadata": {},
   "outputs": [
    {
     "data": {
      "text/plain": [
       "array(['Medium', nan, 'High', 'Small'], dtype=object)"
      ]
     },
     "execution_count": 16,
     "metadata": {},
     "output_type": "execute_result"
    }
   ],
   "source": [
    "df[\"Outlet_Size\"].unique()"
   ]
  },
  {
   "cell_type": "code",
   "execution_count": 17,
   "id": "0f2002b3",
   "metadata": {},
   "outputs": [
    {
     "data": {
      "text/plain": [
       "array([1999, 2009, 1998, 1987, 1985, 2002, 2007, 1997, 2004], dtype=int64)"
      ]
     },
     "execution_count": 17,
     "metadata": {},
     "output_type": "execute_result"
    }
   ],
   "source": [
    "df[\"Outlet_Establishment_Year\"].unique()"
   ]
  },
  {
   "cell_type": "code",
   "execution_count": 18,
   "id": "f6389654",
   "metadata": {},
   "outputs": [
    {
     "data": {
      "text/plain": [
       "array([1999, 2007, 1998, 1985, 1997, 2009, 2002, 1987, 2004], dtype=int64)"
      ]
     },
     "execution_count": 18,
     "metadata": {},
     "output_type": "execute_result"
    }
   ],
   "source": [
    "df_test[\"Outlet_Establishment_Year\"].unique()"
   ]
  },
  {
   "cell_type": "code",
   "execution_count": 19,
   "id": "6dbe454c",
   "metadata": {},
   "outputs": [
    {
     "data": {
      "text/plain": [
       "Item_Identifier               object\n",
       "Item_Weight                  float64\n",
       "Item_Fat_Content              object\n",
       "Item_Visibility              float64\n",
       "Item_Type                     object\n",
       "Item_MRP                     float64\n",
       "Outlet_Identifier             object\n",
       "Outlet_Establishment_Year      int64\n",
       "Outlet_Size                   object\n",
       "Outlet_Location_Type          object\n",
       "Outlet_Type                   object\n",
       "Item_Outlet_Sales            float64\n",
       "dtype: object"
      ]
     },
     "execution_count": 19,
     "metadata": {},
     "output_type": "execute_result"
    }
   ],
   "source": [
    "df.dtypes"
   ]
  },
  {
   "cell_type": "code",
   "execution_count": 20,
   "id": "e529fa48",
   "metadata": {},
   "outputs": [],
   "source": [
    "df[\"Outlet_Establishment_Year\"]=df[\"Outlet_Establishment_Year\"].apply(lambda x:(2009-x))"
   ]
  },
  {
   "cell_type": "code",
   "execution_count": 21,
   "id": "79ff4bfd",
   "metadata": {},
   "outputs": [
    {
     "data": {
      "text/plain": [
       "array([10,  0, 11, 22, 24,  7,  2, 12,  5], dtype=int64)"
      ]
     },
     "execution_count": 21,
     "metadata": {},
     "output_type": "execute_result"
    }
   ],
   "source": [
    "df[\"Outlet_Establishment_Year\"].unique()"
   ]
  },
  {
   "cell_type": "code",
   "execution_count": 22,
   "id": "889f73d5",
   "metadata": {},
   "outputs": [],
   "source": [
    "df_test[\"Outlet_Establishment_Year\"] = df_test[\"Outlet_Establishment_Year\"].apply(lambda x : (2009-x))"
   ]
  },
  {
   "cell_type": "code",
   "execution_count": 23,
   "id": "4bd1bfbe",
   "metadata": {},
   "outputs": [
    {
     "data": {
      "text/plain": [
       "array([10,  2, 11, 24, 12,  0,  7, 22,  5], dtype=int64)"
      ]
     },
     "execution_count": 23,
     "metadata": {},
     "output_type": "execute_result"
    }
   ],
   "source": [
    "df_test[\"Outlet_Establishment_Year\"].unique()"
   ]
  },
  {
   "cell_type": "code",
   "execution_count": 24,
   "id": "5ccf68be",
   "metadata": {},
   "outputs": [],
   "source": [
    "def func2(x):\n",
    "    try:\n",
    "        if np.isnan(x):\n",
    "            return \"other\"\n",
    "        else: \n",
    "            return x\n",
    "    except:\n",
    "        return x"
   ]
  },
  {
   "cell_type": "code",
   "execution_count": 25,
   "id": "0154ff37",
   "metadata": {},
   "outputs": [],
   "source": [
    "df[\"Outlet_Size\"]=df[\"Outlet_Size\"].apply(func2)"
   ]
  },
  {
   "cell_type": "code",
   "execution_count": 26,
   "id": "3ac8f5dc",
   "metadata": {},
   "outputs": [
    {
     "data": {
      "text/plain": [
       "array(['Medium', 'other', 'High', 'Small'], dtype=object)"
      ]
     },
     "execution_count": 26,
     "metadata": {},
     "output_type": "execute_result"
    }
   ],
   "source": [
    "df[\"Outlet_Size\"].unique()"
   ]
  },
  {
   "cell_type": "code",
   "execution_count": 27,
   "id": "e7328860",
   "metadata": {},
   "outputs": [],
   "source": [
    "df_test[\"Outlet_Size\"]=df_test[\"Outlet_Size\"].apply(func2)"
   ]
  },
  {
   "cell_type": "code",
   "execution_count": 28,
   "id": "9cf7a29a",
   "metadata": {},
   "outputs": [
    {
     "data": {
      "text/plain": [
       "array(['Medium', 'other', 'Small', 'High'], dtype=object)"
      ]
     },
     "execution_count": 28,
     "metadata": {},
     "output_type": "execute_result"
    }
   ],
   "source": [
    "df_test[\"Outlet_Size\"].unique()"
   ]
  },
  {
   "cell_type": "code",
   "execution_count": 29,
   "id": "2fb33c33",
   "metadata": {},
   "outputs": [
    {
     "data": {
      "text/plain": [
       "<AxesSubplot:xlabel='Outlet_Type', ylabel='count'>"
      ]
     },
     "execution_count": 29,
     "metadata": {},
     "output_type": "execute_result"
    },
    {
     "data": {
      "image/png": "[encoded data removed]",
      "text/plain": [
       "<Figure size 864x576 with 1 Axes>"
      ]
     },
     "metadata": {
      "needs_background": "light"
     },
     "output_type": "display_data"
    }
   ],
   "source": [
    "plt.figure(figsize=(12,8))\n",
    "sns.countplot(data = df,x =\"Outlet_Type\",hue=\"Outlet_Size\" )"
   ]
  },
  {
   "cell_type": "code",
   "execution_count": 30,
   "id": "bd02918f",
   "metadata": {},
   "outputs": [
    {
     "data": {
      "text/plain": [
       "<AxesSubplot:xlabel='Outlet_Type', ylabel='count'>"
      ]
     },
     "execution_count": 30,
     "metadata": {},
     "output_type": "execute_result"
    },
    {
     "data": {
      "image/png": "[encoded data removed]",
      "text/plain": [
       "<Figure size 864x576 with 1 Axes>"
      ]
     },
     "metadata": {
      "needs_background": "light"
     },
     "output_type": "display_data"
    }
   ],
   "source": [
    "plt.figure(figsize=(12,8))\n",
    "sns.countplot(data = df_test,x =\"Outlet_Type\",hue=\"Outlet_Size\" )"
   ]
  },
  {
   "cell_type": "code",
   "execution_count": 31,
   "id": "a5f8cdee",
   "metadata": {},
   "outputs": [],
   "source": [
    "def func3(x1,x2):\n",
    "    if x1==\"Grocery Store\":\n",
    "        x2 = \"Small\"\n",
    "        return x2  \n",
    "    elif x1==\"Supermarket Type1\" and x2 == \"other\":\n",
    "        x2 = \"Small\"\n",
    "        return x2\n",
    "    else:\n",
    "        return x2"
   ]
  },
  {
   "cell_type": "code",
   "execution_count": 32,
   "id": "1d55413d",
   "metadata": {},
   "outputs": [],
   "source": [
    "df[\"Outlet_Size\"]=df.apply(lambda x: func3(x[\"Outlet_Type\"], x[\"Outlet_Size\"]), axis=1)"
   ]
  },
  {
   "cell_type": "code",
   "execution_count": 33,
   "id": "6b92164c",
   "metadata": {},
   "outputs": [],
   "source": [
    "df_test[\"Outlet_Size\"]=df_test.apply(lambda x: func3(x[\"Outlet_Type\"], x[\"Outlet_Size\"]), axis=1)"
   ]
  },
  {
   "cell_type": "code",
   "execution_count": 34,
   "id": "c887cdfb",
   "metadata": {},
   "outputs": [],
   "source": [
    "df[\"Outlet_Size\"] = df[\"Outlet_Size\"].map({\"Small\":1,\"Medium\":2,\"High\":3})"
   ]
  },
  {
   "cell_type": "code",
   "execution_count": 35,
   "id": "337b1b8f",
   "metadata": {},
   "outputs": [],
   "source": [
    "df_test[\"Outlet_Size\"] = df_test[\"Outlet_Size\"].map({\"Small\":1,\"Medium\":2,\"High\":3})"
   ]
  },
  {
   "cell_type": "code",
   "execution_count": 36,
   "id": "1f1db930",
   "metadata": {},
   "outputs": [
    {
     "data": {
      "text/plain": [
       "<AxesSubplot:xlabel='Outlet_Type', ylabel='count'>"
      ]
     },
     "execution_count": 36,
     "metadata": {},
     "output_type": "execute_result"
    },
    {
     "data": {
      "image/png": "[encoded data removed]",
      "text/plain": [
       "<Figure size 864x576 with 1 Axes>"
      ]
     },
     "metadata": {
      "needs_background": "light"
     },
     "output_type": "display_data"
    }
   ],
   "source": [
    "plt.figure(figsize=(12,8))\n",
    "sns.countplot(data = df,x =\"Outlet_Type\",hue=\"Outlet_Size\" )"
   ]
  },
  {
   "cell_type": "code",
   "execution_count": 37,
   "id": "d36c69d5",
   "metadata": {},
   "outputs": [
    {
     "data": {
      "text/plain": [
       "<AxesSubplot:xlabel='Outlet_Type', ylabel='count'>"
      ]
     },
     "execution_count": 37,
     "metadata": {},
     "output_type": "execute_result"
    },
    {
     "data": {
      "image/png": "[encoded data removed]",
      "text/plain": [
       "<Figure size 864x576 with 1 Axes>"
      ]
     },
     "metadata": {
      "needs_background": "light"
     },
     "output_type": "display_data"
    }
   ],
   "source": [
    "plt.figure(figsize=(12,8))\n",
    "sns.countplot(data = df_test,x =\"Outlet_Type\",hue=\"Outlet_Size\" )"
   ]
  },
  {
   "cell_type": "code",
   "execution_count": 38,
   "id": "150c9cc8",
   "metadata": {},
   "outputs": [
    {
     "data": {
      "text/html": [
       "<div>\n",
       "<style scoped>\n",
       "    .dataframe tbody tr th:only-of-type {\n",
       "        vertical-align: middle;\n",
       "    }\n",
       "\n",
       "    .dataframe tbody tr th {\n",
       "        vertical-align: top;\n",
       "    }\n",
       "\n",
       "    .dataframe thead th {\n",
       "        text-align: right;\n",
       "    }\n",
       "</style>\n",
       "<table border=\"1\" class=\"dataframe\">\n",
       "  <thead>\n",
       "    <tr style=\"text-align: right;\">\n",
       "      <th></th>\n",
       "      <th>Item_Identifier</th>\n",
       "      <th>Item_Weight</th>\n",
       "      <th>Item_Fat_Content</th>\n",
       "      <th>Item_Visibility</th>\n",
       "      <th>Item_Type</th>\n",
       "      <th>Item_MRP</th>\n",
       "      <th>Outlet_Identifier</th>\n",
       "      <th>Outlet_Establishment_Year</th>\n",
       "      <th>Outlet_Size</th>\n",
       "      <th>Outlet_Location_Type</th>\n",
       "      <th>Outlet_Type</th>\n",
       "      <th>Item_Outlet_Sales</th>\n",
       "    </tr>\n",
       "  </thead>\n",
       "  <tbody>\n",
       "    <tr>\n",
       "      <th>0</th>\n",
       "      <td>FDA15</td>\n",
       "      <td>9.30</td>\n",
       "      <td>Low Fat</td>\n",
       "      <td>0.016047</td>\n",
       "      <td>Dairy</td>\n",
       "      <td>249.8092</td>\n",
       "      <td>OUT049</td>\n",
       "      <td>10</td>\n",
       "      <td>2</td>\n",
       "      <td>Tier 1</td>\n",
       "      <td>Supermarket Type1</td>\n",
       "      <td>3735.1380</td>\n",
       "    </tr>\n",
       "    <tr>\n",
       "      <th>1</th>\n",
       "      <td>DRC01</td>\n",
       "      <td>5.92</td>\n",
       "      <td>Regular</td>\n",
       "      <td>0.019278</td>\n",
       "      <td>Soft Drinks</td>\n",
       "      <td>48.2692</td>\n",
       "      <td>OUT018</td>\n",
       "      <td>0</td>\n",
       "      <td>2</td>\n",
       "      <td>Tier 3</td>\n",
       "      <td>Supermarket Type2</td>\n",
       "      <td>443.4228</td>\n",
       "    </tr>\n",
       "    <tr>\n",
       "      <th>2</th>\n",
       "      <td>FDN15</td>\n",
       "      <td>17.50</td>\n",
       "      <td>Low Fat</td>\n",
       "      <td>0.016760</td>\n",
       "      <td>Meat</td>\n",
       "      <td>141.6180</td>\n",
       "      <td>OUT049</td>\n",
       "      <td>10</td>\n",
       "      <td>2</td>\n",
       "      <td>Tier 1</td>\n",
       "      <td>Supermarket Type1</td>\n",
       "      <td>2097.2700</td>\n",
       "    </tr>\n",
       "    <tr>\n",
       "      <th>3</th>\n",
       "      <td>FDX07</td>\n",
       "      <td>19.20</td>\n",
       "      <td>Regular</td>\n",
       "      <td>0.000000</td>\n",
       "      <td>Fruits and Vegetables</td>\n",
       "      <td>182.0950</td>\n",
       "      <td>OUT010</td>\n",
       "      <td>11</td>\n",
       "      <td>1</td>\n",
       "      <td>Tier 3</td>\n",
       "      <td>Grocery Store</td>\n",
       "      <td>732.3800</td>\n",
       "    </tr>\n",
       "    <tr>\n",
       "      <th>4</th>\n",
       "      <td>NCD19</td>\n",
       "      <td>8.93</td>\n",
       "      <td>Low Fat</td>\n",
       "      <td>0.000000</td>\n",
       "      <td>Household</td>\n",
       "      <td>53.8614</td>\n",
       "      <td>OUT013</td>\n",
       "      <td>22</td>\n",
       "      <td>3</td>\n",
       "      <td>Tier 3</td>\n",
       "      <td>Supermarket Type1</td>\n",
       "      <td>994.7052</td>\n",
       "    </tr>\n",
       "  </tbody>\n",
       "</table>\n",
       "</div>"
      ],
      "text/plain": [
       "  Item_Identifier  Item_Weight Item_Fat_Content  Item_Visibility  \\\n",
       "0           FDA15         9.30          Low Fat         0.016047   \n",
       "1           DRC01         5.92          Regular         0.019278   \n",
       "2           FDN15        17.50          Low Fat         0.016760   \n",
       "3           FDX07        19.20          Regular         0.000000   \n",
       "4           NCD19         8.93          Low Fat         0.000000   \n",
       "\n",
       "               Item_Type  Item_MRP Outlet_Identifier  \\\n",
       "0                  Dairy  249.8092            OUT049   \n",
       "1            Soft Drinks   48.2692            OUT018   \n",
       "2                   Meat  141.6180            OUT049   \n",
       "3  Fruits and Vegetables  182.0950            OUT010   \n",
       "4              Household   53.8614            OUT013   \n",
       "\n",
       "   Outlet_Establishment_Year  Outlet_Size Outlet_Location_Type  \\\n",
       "0                         10            2               Tier 1   \n",
       "1                          0            2               Tier 3   \n",
       "2                         10            2               Tier 1   \n",
       "3                         11            1               Tier 3   \n",
       "4                         22            3               Tier 3   \n",
       "\n",
       "         Outlet_Type  Item_Outlet_Sales  \n",
       "0  Supermarket Type1          3735.1380  \n",
       "1  Supermarket Type2           443.4228  \n",
       "2  Supermarket Type1          2097.2700  \n",
       "3      Grocery Store           732.3800  \n",
       "4  Supermarket Type1           994.7052  "
      ]
     },
     "execution_count": 38,
     "metadata": {},
     "output_type": "execute_result"
    }
   ],
   "source": [
    "df.head()"
   ]
  },
  {
   "cell_type": "code",
   "execution_count": 39,
   "id": "8fcc5124",
   "metadata": {},
   "outputs": [],
   "source": [
    "def fun4(df):\n",
    "    df_new = pd.DataFrame()\n",
    "    for i,sub_df in df.groupby(\"Item_Identifier\"):\n",
    "        m = sub_df[\"Item_Weight\"].mean()\n",
    "        sub_df.fillna(m,inplace=True)\n",
    "        df_new = pd.concat([df_new,sub_df])\n",
    "    return df_new\n",
    "       "
   ]
  },
  {
   "cell_type": "code",
   "execution_count": 40,
   "id": "06cb1e97",
   "metadata": {},
   "outputs": [],
   "source": [
    "df=fun4(df)"
   ]
  },
  {
   "cell_type": "code",
   "execution_count": 41,
   "id": "bed9a3ef",
   "metadata": {},
   "outputs": [
    {
     "data": {
      "text/html": [
       "<div>\n",
       "<style scoped>\n",
       "    .dataframe tbody tr th:only-of-type {\n",
       "        vertical-align: middle;\n",
       "    }\n",
       "\n",
       "    .dataframe tbody tr th {\n",
       "        vertical-align: top;\n",
       "    }\n",
       "\n",
       "    .dataframe thead th {\n",
       "        text-align: right;\n",
       "    }\n",
       "</style>\n",
       "<table border=\"1\" class=\"dataframe\">\n",
       "  <thead>\n",
       "    <tr style=\"text-align: right;\">\n",
       "      <th></th>\n",
       "      <th>Item_Identifier</th>\n",
       "      <th>Item_Weight</th>\n",
       "      <th>Item_Fat_Content</th>\n",
       "      <th>Item_Visibility</th>\n",
       "      <th>Item_Type</th>\n",
       "      <th>Item_MRP</th>\n",
       "      <th>Outlet_Identifier</th>\n",
       "      <th>Outlet_Establishment_Year</th>\n",
       "      <th>Outlet_Size</th>\n",
       "      <th>Outlet_Location_Type</th>\n",
       "      <th>Outlet_Type</th>\n",
       "      <th>Item_Outlet_Sales</th>\n",
       "    </tr>\n",
       "  </thead>\n",
       "  <tbody>\n",
       "    <tr>\n",
       "      <th>118</th>\n",
       "      <td>DRA12</td>\n",
       "      <td>11.60</td>\n",
       "      <td>Low Fat</td>\n",
       "      <td>0.041178</td>\n",
       "      <td>Soft Drinks</td>\n",
       "      <td>140.3154</td>\n",
       "      <td>OUT017</td>\n",
       "      <td>2</td>\n",
       "      <td>1</td>\n",
       "      <td>Tier 2</td>\n",
       "      <td>Supermarket Type1</td>\n",
       "      <td>2552.6772</td>\n",
       "    </tr>\n",
       "    <tr>\n",
       "      <th>1197</th>\n",
       "      <td>DRA12</td>\n",
       "      <td>11.60</td>\n",
       "      <td>Low Fat</td>\n",
       "      <td>0.000000</td>\n",
       "      <td>Soft Drinks</td>\n",
       "      <td>141.6154</td>\n",
       "      <td>OUT045</td>\n",
       "      <td>7</td>\n",
       "      <td>1</td>\n",
       "      <td>Tier 2</td>\n",
       "      <td>Supermarket Type1</td>\n",
       "      <td>3829.0158</td>\n",
       "    </tr>\n",
       "    <tr>\n",
       "      <th>1245</th>\n",
       "      <td>DRA12</td>\n",
       "      <td>11.60</td>\n",
       "      <td>Low Fat</td>\n",
       "      <td>0.040912</td>\n",
       "      <td>Soft Drinks</td>\n",
       "      <td>142.3154</td>\n",
       "      <td>OUT013</td>\n",
       "      <td>22</td>\n",
       "      <td>3</td>\n",
       "      <td>Tier 3</td>\n",
       "      <td>Supermarket Type1</td>\n",
       "      <td>2552.6772</td>\n",
       "    </tr>\n",
       "    <tr>\n",
       "      <th>1693</th>\n",
       "      <td>DRA12</td>\n",
       "      <td>11.60</td>\n",
       "      <td>LF</td>\n",
       "      <td>0.000000</td>\n",
       "      <td>Soft Drinks</td>\n",
       "      <td>141.9154</td>\n",
       "      <td>OUT035</td>\n",
       "      <td>5</td>\n",
       "      <td>1</td>\n",
       "      <td>Tier 2</td>\n",
       "      <td>Supermarket Type1</td>\n",
       "      <td>992.7078</td>\n",
       "    </tr>\n",
       "    <tr>\n",
       "      <th>7467</th>\n",
       "      <td>DRA12</td>\n",
       "      <td>11.60</td>\n",
       "      <td>Low Fat</td>\n",
       "      <td>0.041113</td>\n",
       "      <td>Soft Drinks</td>\n",
       "      <td>142.0154</td>\n",
       "      <td>OUT018</td>\n",
       "      <td>0</td>\n",
       "      <td>2</td>\n",
       "      <td>Tier 3</td>\n",
       "      <td>Supermarket Type2</td>\n",
       "      <td>850.8924</td>\n",
       "    </tr>\n",
       "    <tr>\n",
       "      <th>...</th>\n",
       "      <td>...</td>\n",
       "      <td>...</td>\n",
       "      <td>...</td>\n",
       "      <td>...</td>\n",
       "      <td>...</td>\n",
       "      <td>...</td>\n",
       "      <td>...</td>\n",
       "      <td>...</td>\n",
       "      <td>...</td>\n",
       "      <td>...</td>\n",
       "      <td>...</td>\n",
       "      <td>...</td>\n",
       "    </tr>\n",
       "    <tr>\n",
       "      <th>1969</th>\n",
       "      <td>NCZ54</td>\n",
       "      <td>14.65</td>\n",
       "      <td>Low Fat</td>\n",
       "      <td>0.083528</td>\n",
       "      <td>Household</td>\n",
       "      <td>162.4552</td>\n",
       "      <td>OUT045</td>\n",
       "      <td>7</td>\n",
       "      <td>1</td>\n",
       "      <td>Tier 2</td>\n",
       "      <td>Supermarket Type1</td>\n",
       "      <td>2274.3728</td>\n",
       "    </tr>\n",
       "    <tr>\n",
       "      <th>2839</th>\n",
       "      <td>NCZ54</td>\n",
       "      <td>14.65</td>\n",
       "      <td>Low Fat</td>\n",
       "      <td>0.083359</td>\n",
       "      <td>Household</td>\n",
       "      <td>161.9552</td>\n",
       "      <td>OUT046</td>\n",
       "      <td>12</td>\n",
       "      <td>1</td>\n",
       "      <td>Tier 1</td>\n",
       "      <td>Supermarket Type1</td>\n",
       "      <td>4711.2008</td>\n",
       "    </tr>\n",
       "    <tr>\n",
       "      <th>7166</th>\n",
       "      <td>NCZ54</td>\n",
       "      <td>14.65</td>\n",
       "      <td>Low Fat</td>\n",
       "      <td>0.145952</td>\n",
       "      <td>Household</td>\n",
       "      <td>160.9552</td>\n",
       "      <td>OUT019</td>\n",
       "      <td>24</td>\n",
       "      <td>1</td>\n",
       "      <td>Tier 1</td>\n",
       "      <td>Grocery Store</td>\n",
       "      <td>162.4552</td>\n",
       "    </tr>\n",
       "    <tr>\n",
       "      <th>7738</th>\n",
       "      <td>NCZ54</td>\n",
       "      <td>14.65</td>\n",
       "      <td>Low Fat</td>\n",
       "      <td>0.083699</td>\n",
       "      <td>Household</td>\n",
       "      <td>163.4552</td>\n",
       "      <td>OUT018</td>\n",
       "      <td>0</td>\n",
       "      <td>2</td>\n",
       "      <td>Tier 3</td>\n",
       "      <td>Supermarket Type2</td>\n",
       "      <td>2599.2832</td>\n",
       "    </tr>\n",
       "    <tr>\n",
       "      <th>7926</th>\n",
       "      <td>NCZ54</td>\n",
       "      <td>14.65</td>\n",
       "      <td>Low Fat</td>\n",
       "      <td>0.083489</td>\n",
       "      <td>Household</td>\n",
       "      <td>161.3552</td>\n",
       "      <td>OUT049</td>\n",
       "      <td>10</td>\n",
       "      <td>2</td>\n",
       "      <td>Tier 1</td>\n",
       "      <td>Supermarket Type1</td>\n",
       "      <td>7148.0288</td>\n",
       "    </tr>\n",
       "  </tbody>\n",
       "</table>\n",
       "<p>8523 rows × 12 columns</p>\n",
       "</div>"
      ],
      "text/plain": [
       "     Item_Identifier  Item_Weight Item_Fat_Content  Item_Visibility  \\\n",
       "118            DRA12        11.60          Low Fat         0.041178   \n",
       "1197           DRA12        11.60          Low Fat         0.000000   \n",
       "1245           DRA12        11.60          Low Fat         0.040912   \n",
       "1693           DRA12        11.60               LF         0.000000   \n",
       "7467           DRA12        11.60          Low Fat         0.041113   \n",
       "...              ...          ...              ...              ...   \n",
       "1969           NCZ54        14.65          Low Fat         0.083528   \n",
       "2839           NCZ54        14.65          Low Fat         0.083359   \n",
       "7166           NCZ54        14.65          Low Fat         0.145952   \n",
       "7738           NCZ54        14.65          Low Fat         0.083699   \n",
       "7926           NCZ54        14.65          Low Fat         0.083489   \n",
       "\n",
       "        Item_Type  Item_MRP Outlet_Identifier  Outlet_Establishment_Year  \\\n",
       "118   Soft Drinks  140.3154            OUT017                          2   \n",
       "1197  Soft Drinks  141.6154            OUT045                          7   \n",
       "1245  Soft Drinks  142.3154            OUT013                         22   \n",
       "1693  Soft Drinks  141.9154            OUT035                          5   \n",
       "7467  Soft Drinks  142.0154            OUT018                          0   \n",
       "...           ...       ...               ...                        ...   \n",
       "1969    Household  162.4552            OUT045                          7   \n",
       "2839    Household  161.9552            OUT046                         12   \n",
       "7166    Household  160.9552            OUT019                         24   \n",
       "7738    Household  163.4552            OUT018                          0   \n",
       "7926    Household  161.3552            OUT049                         10   \n",
       "\n",
       "      Outlet_Size Outlet_Location_Type        Outlet_Type  Item_Outlet_Sales  \n",
       "118             1               Tier 2  Supermarket Type1          2552.6772  \n",
       "1197            1               Tier 2  Supermarket Type1          3829.0158  \n",
       "1245            3               Tier 3  Supermarket Type1          2552.6772  \n",
       "1693            1               Tier 2  Supermarket Type1           992.7078  \n",
       "7467            2               Tier 3  Supermarket Type2           850.8924  \n",
       "...           ...                  ...                ...                ...  \n",
       "1969            1               Tier 2  Supermarket Type1          2274.3728  \n",
       "2839            1               Tier 1  Supermarket Type1          4711.2008  \n",
       "7166            1               Tier 1      Grocery Store           162.4552  \n",
       "7738            2               Tier 3  Supermarket Type2          2599.2832  \n",
       "7926            2               Tier 1  Supermarket Type1          7148.0288  \n",
       "\n",
       "[8523 rows x 12 columns]"
      ]
     },
     "execution_count": 41,
     "metadata": {},
     "output_type": "execute_result"
    }
   ],
   "source": [
    "df"
   ]
  },
  {
   "cell_type": "code",
   "execution_count": 42,
   "id": "9805ac77",
   "metadata": {},
   "outputs": [
    {
     "data": {
      "text/plain": [
       "Item_Identifier              0\n",
       "Item_Weight                  4\n",
       "Item_Fat_Content             0\n",
       "Item_Visibility              0\n",
       "Item_Type                    0\n",
       "Item_MRP                     0\n",
       "Outlet_Identifier            0\n",
       "Outlet_Establishment_Year    0\n",
       "Outlet_Size                  0\n",
       "Outlet_Location_Type         0\n",
       "Outlet_Type                  0\n",
       "Item_Outlet_Sales            0\n",
       "dtype: int64"
      ]
     },
     "execution_count": 42,
     "metadata": {},
     "output_type": "execute_result"
    }
   ],
   "source": [
    "df.isnull().sum()"
   ]
  },
  {
   "cell_type": "code",
   "execution_count": 43,
   "id": "03f9392d",
   "metadata": {},
   "outputs": [],
   "source": [
    "df = df.dropna()"
   ]
  },
  {
   "cell_type": "code",
   "execution_count": 44,
   "id": "1d7bd6fe",
   "metadata": {},
   "outputs": [
    {
     "data": {
      "text/plain": [
       "Item_Identifier              0\n",
       "Item_Weight                  0\n",
       "Item_Fat_Content             0\n",
       "Item_Visibility              0\n",
       "Item_Type                    0\n",
       "Item_MRP                     0\n",
       "Outlet_Identifier            0\n",
       "Outlet_Establishment_Year    0\n",
       "Outlet_Size                  0\n",
       "Outlet_Location_Type         0\n",
       "Outlet_Type                  0\n",
       "Item_Outlet_Sales            0\n",
       "dtype: int64"
      ]
     },
     "execution_count": 44,
     "metadata": {},
     "output_type": "execute_result"
    }
   ],
   "source": [
    "df.isnull().sum()"
   ]
  },
  {
   "cell_type": "code",
   "execution_count": 45,
   "id": "a87b1edb",
   "metadata": {},
   "outputs": [],
   "source": [
    "df_test=fun4(df_test)"
   ]
  },
  {
   "cell_type": "code",
   "execution_count": 46,
   "id": "b3d4caf8",
   "metadata": {},
   "outputs": [
    {
     "data": {
      "text/html": [
       "<div>\n",
       "<style scoped>\n",
       "    .dataframe tbody tr th:only-of-type {\n",
       "        vertical-align: middle;\n",
       "    }\n",
       "\n",
       "    .dataframe tbody tr th {\n",
       "        vertical-align: top;\n",
       "    }\n",
       "\n",
       "    .dataframe thead th {\n",
       "        text-align: right;\n",
       "    }\n",
       "</style>\n",
       "<table border=\"1\" class=\"dataframe\">\n",
       "  <thead>\n",
       "    <tr style=\"text-align: right;\">\n",
       "      <th></th>\n",
       "      <th>Item_Identifier</th>\n",
       "      <th>Item_Weight</th>\n",
       "      <th>Item_Fat_Content</th>\n",
       "      <th>Item_Visibility</th>\n",
       "      <th>Item_Type</th>\n",
       "      <th>Item_MRP</th>\n",
       "      <th>Outlet_Identifier</th>\n",
       "      <th>Outlet_Establishment_Year</th>\n",
       "      <th>Outlet_Size</th>\n",
       "      <th>Outlet_Location_Type</th>\n",
       "      <th>Outlet_Type</th>\n",
       "    </tr>\n",
       "  </thead>\n",
       "  <tbody>\n",
       "    <tr>\n",
       "      <th>500</th>\n",
       "      <td>DRA12</td>\n",
       "      <td>11.60</td>\n",
       "      <td>Low Fat</td>\n",
       "      <td>0.040946</td>\n",
       "      <td>Soft Drinks</td>\n",
       "      <td>142.9154</td>\n",
       "      <td>OUT046</td>\n",
       "      <td>12</td>\n",
       "      <td>1</td>\n",
       "      <td>Tier 1</td>\n",
       "      <td>Supermarket Type1</td>\n",
       "    </tr>\n",
       "    <tr>\n",
       "      <th>3912</th>\n",
       "      <td>DRA12</td>\n",
       "      <td>11.60</td>\n",
       "      <td>Low Fat</td>\n",
       "      <td>0.040748</td>\n",
       "      <td>Soft Drinks</td>\n",
       "      <td>140.0154</td>\n",
       "      <td>OUT027</td>\n",
       "      <td>24</td>\n",
       "      <td>2</td>\n",
       "      <td>Tier 3</td>\n",
       "      <td>Supermarket Type3</td>\n",
       "    </tr>\n",
       "    <tr>\n",
       "      <th>5081</th>\n",
       "      <td>DRA12</td>\n",
       "      <td>11.60</td>\n",
       "      <td>LF</td>\n",
       "      <td>0.041010</td>\n",
       "      <td>Soft Drinks</td>\n",
       "      <td>141.0154</td>\n",
       "      <td>OUT049</td>\n",
       "      <td>10</td>\n",
       "      <td>2</td>\n",
       "      <td>Tier 1</td>\n",
       "      <td>Supermarket Type1</td>\n",
       "    </tr>\n",
       "    <tr>\n",
       "      <th>1211</th>\n",
       "      <td>DRA24</td>\n",
       "      <td>19.35</td>\n",
       "      <td>Regular</td>\n",
       "      <td>0.040009</td>\n",
       "      <td>Soft Drinks</td>\n",
       "      <td>163.2868</td>\n",
       "      <td>OUT045</td>\n",
       "      <td>7</td>\n",
       "      <td>1</td>\n",
       "      <td>Tier 2</td>\n",
       "      <td>Supermarket Type1</td>\n",
       "    </tr>\n",
       "    <tr>\n",
       "      <th>2847</th>\n",
       "      <td>DRA24</td>\n",
       "      <td>19.35</td>\n",
       "      <td>Regular</td>\n",
       "      <td>0.040091</td>\n",
       "      <td>Soft Drinks</td>\n",
       "      <td>163.6868</td>\n",
       "      <td>OUT018</td>\n",
       "      <td>0</td>\n",
       "      <td>2</td>\n",
       "      <td>Tier 3</td>\n",
       "      <td>Supermarket Type2</td>\n",
       "    </tr>\n",
       "    <tr>\n",
       "      <th>...</th>\n",
       "      <td>...</td>\n",
       "      <td>...</td>\n",
       "      <td>...</td>\n",
       "      <td>...</td>\n",
       "      <td>...</td>\n",
       "      <td>...</td>\n",
       "      <td>...</td>\n",
       "      <td>...</td>\n",
       "      <td>...</td>\n",
       "      <td>...</td>\n",
       "      <td>...</td>\n",
       "    </tr>\n",
       "    <tr>\n",
       "      <th>2318</th>\n",
       "      <td>NCZ53</td>\n",
       "      <td>9.60</td>\n",
       "      <td>Low Fat</td>\n",
       "      <td>0.024616</td>\n",
       "      <td>Health and Hygiene</td>\n",
       "      <td>190.0214</td>\n",
       "      <td>OUT017</td>\n",
       "      <td>2</td>\n",
       "      <td>1</td>\n",
       "      <td>Tier 2</td>\n",
       "      <td>Supermarket Type1</td>\n",
       "    </tr>\n",
       "    <tr>\n",
       "      <th>2875</th>\n",
       "      <td>NCZ53</td>\n",
       "      <td>9.60</td>\n",
       "      <td>Low Fat</td>\n",
       "      <td>0.024527</td>\n",
       "      <td>Health and Hygiene</td>\n",
       "      <td>188.5214</td>\n",
       "      <td>OUT045</td>\n",
       "      <td>7</td>\n",
       "      <td>1</td>\n",
       "      <td>Tier 2</td>\n",
       "      <td>Supermarket Type1</td>\n",
       "    </tr>\n",
       "    <tr>\n",
       "      <th>2907</th>\n",
       "      <td>NCZ54</td>\n",
       "      <td>14.65</td>\n",
       "      <td>Low Fat</td>\n",
       "      <td>0.083344</td>\n",
       "      <td>Household</td>\n",
       "      <td>163.6552</td>\n",
       "      <td>OUT035</td>\n",
       "      <td>5</td>\n",
       "      <td>1</td>\n",
       "      <td>Tier 2</td>\n",
       "      <td>Supermarket Type1</td>\n",
       "    </tr>\n",
       "    <tr>\n",
       "      <th>4307</th>\n",
       "      <td>NCZ54</td>\n",
       "      <td>14.65</td>\n",
       "      <td>Low Fat</td>\n",
       "      <td>0.083290</td>\n",
       "      <td>Household</td>\n",
       "      <td>160.4552</td>\n",
       "      <td>OUT013</td>\n",
       "      <td>22</td>\n",
       "      <td>3</td>\n",
       "      <td>Tier 3</td>\n",
       "      <td>Supermarket Type1</td>\n",
       "    </tr>\n",
       "    <tr>\n",
       "      <th>4700</th>\n",
       "      <td>NCZ54</td>\n",
       "      <td>14.65</td>\n",
       "      <td>Low Fat</td>\n",
       "      <td>0.083831</td>\n",
       "      <td>Household</td>\n",
       "      <td>161.4552</td>\n",
       "      <td>OUT017</td>\n",
       "      <td>2</td>\n",
       "      <td>1</td>\n",
       "      <td>Tier 2</td>\n",
       "      <td>Supermarket Type1</td>\n",
       "    </tr>\n",
       "  </tbody>\n",
       "</table>\n",
       "<p>5681 rows × 11 columns</p>\n",
       "</div>"
      ],
      "text/plain": [
       "     Item_Identifier  Item_Weight Item_Fat_Content  Item_Visibility  \\\n",
       "500            DRA12        11.60          Low Fat         0.040946   \n",
       "3912           DRA12        11.60          Low Fat         0.040748   \n",
       "5081           DRA12        11.60               LF         0.041010   \n",
       "1211           DRA24        19.35          Regular         0.040009   \n",
       "2847           DRA24        19.35          Regular         0.040091   \n",
       "...              ...          ...              ...              ...   \n",
       "2318           NCZ53         9.60          Low Fat         0.024616   \n",
       "2875           NCZ53         9.60          Low Fat         0.024527   \n",
       "2907           NCZ54        14.65          Low Fat         0.083344   \n",
       "4307           NCZ54        14.65          Low Fat         0.083290   \n",
       "4700           NCZ54        14.65          Low Fat         0.083831   \n",
       "\n",
       "               Item_Type  Item_MRP Outlet_Identifier  \\\n",
       "500          Soft Drinks  142.9154            OUT046   \n",
       "3912         Soft Drinks  140.0154            OUT027   \n",
       "5081         Soft Drinks  141.0154            OUT049   \n",
       "1211         Soft Drinks  163.2868            OUT045   \n",
       "2847         Soft Drinks  163.6868            OUT018   \n",
       "...                  ...       ...               ...   \n",
       "2318  Health and Hygiene  190.0214            OUT017   \n",
       "2875  Health and Hygiene  188.5214            OUT045   \n",
       "2907           Household  163.6552            OUT035   \n",
       "4307           Household  160.4552            OUT013   \n",
       "4700           Household  161.4552            OUT017   \n",
       "\n",
       "      Outlet_Establishment_Year  Outlet_Size Outlet_Location_Type  \\\n",
       "500                          12            1               Tier 1   \n",
       "3912                         24            2               Tier 3   \n",
       "5081                         10            2               Tier 1   \n",
       "1211                          7            1               Tier 2   \n",
       "2847                          0            2               Tier 3   \n",
       "...                         ...          ...                  ...   \n",
       "2318                          2            1               Tier 2   \n",
       "2875                          7            1               Tier 2   \n",
       "2907                          5            1               Tier 2   \n",
       "4307                         22            3               Tier 3   \n",
       "4700                          2            1               Tier 2   \n",
       "\n",
       "            Outlet_Type  \n",
       "500   Supermarket Type1  \n",
       "3912  Supermarket Type3  \n",
       "5081  Supermarket Type1  \n",
       "1211  Supermarket Type1  \n",
       "2847  Supermarket Type2  \n",
       "...                 ...  \n",
       "2318  Supermarket Type1  \n",
       "2875  Supermarket Type1  \n",
       "2907  Supermarket Type1  \n",
       "4307  Supermarket Type1  \n",
       "4700  Supermarket Type1  \n",
       "\n",
       "[5681 rows x 11 columns]"
      ]
     },
     "execution_count": 46,
     "metadata": {},
     "output_type": "execute_result"
    }
   ],
   "source": [
    "df_test"
   ]
  },
  {
   "cell_type": "code",
   "execution_count": 47,
   "id": "b4e6afd2",
   "metadata": {},
   "outputs": [
    {
     "data": {
      "text/plain": [
       "Item_Identifier               0\n",
       "Item_Weight                  20\n",
       "Item_Fat_Content              0\n",
       "Item_Visibility               0\n",
       "Item_Type                     0\n",
       "Item_MRP                      0\n",
       "Outlet_Identifier             0\n",
       "Outlet_Establishment_Year     0\n",
       "Outlet_Size                   0\n",
       "Outlet_Location_Type          0\n",
       "Outlet_Type                   0\n",
       "dtype: int64"
      ]
     },
     "execution_count": 47,
     "metadata": {},
     "output_type": "execute_result"
    }
   ],
   "source": [
    "df_test.isnull().sum()"
   ]
  },
  {
   "cell_type": "code",
   "execution_count": 48,
   "id": "c9406d7a",
   "metadata": {},
   "outputs": [],
   "source": [
    "df_test = df_test.dropna()"
   ]
  },
  {
   "cell_type": "code",
   "execution_count": 49,
   "id": "a6fde724",
   "metadata": {},
   "outputs": [
    {
     "data": {
      "text/plain": [
       "Item_Identifier              0\n",
       "Item_Weight                  0\n",
       "Item_Fat_Content             0\n",
       "Item_Visibility              0\n",
       "Item_Type                    0\n",
       "Item_MRP                     0\n",
       "Outlet_Identifier            0\n",
       "Outlet_Establishment_Year    0\n",
       "Outlet_Size                  0\n",
       "Outlet_Location_Type         0\n",
       "Outlet_Type                  0\n",
       "dtype: int64"
      ]
     },
     "execution_count": 49,
     "metadata": {},
     "output_type": "execute_result"
    }
   ],
   "source": [
    "df_test.isnull().sum()"
   ]
  },
  {
   "cell_type": "code",
   "execution_count": 50,
   "id": "bd495a79",
   "metadata": {},
   "outputs": [
    {
     "data": {
      "text/html": [
       "<div>\n",
       "<style scoped>\n",
       "    .dataframe tbody tr th:only-of-type {\n",
       "        vertical-align: middle;\n",
       "    }\n",
       "\n",
       "    .dataframe tbody tr th {\n",
       "        vertical-align: top;\n",
       "    }\n",
       "\n",
       "    .dataframe thead th {\n",
       "        text-align: right;\n",
       "    }\n",
       "</style>\n",
       "<table border=\"1\" class=\"dataframe\">\n",
       "  <thead>\n",
       "    <tr style=\"text-align: right;\">\n",
       "      <th></th>\n",
       "      <th>Item_Identifier</th>\n",
       "      <th>Item_Weight</th>\n",
       "      <th>Item_Fat_Content</th>\n",
       "      <th>Item_Visibility</th>\n",
       "      <th>Item_Type</th>\n",
       "      <th>Item_MRP</th>\n",
       "      <th>Outlet_Identifier</th>\n",
       "      <th>Outlet_Establishment_Year</th>\n",
       "      <th>Outlet_Size</th>\n",
       "      <th>Outlet_Location_Type</th>\n",
       "      <th>Outlet_Type</th>\n",
       "      <th>Item_Outlet_Sales</th>\n",
       "    </tr>\n",
       "  </thead>\n",
       "  <tbody>\n",
       "    <tr>\n",
       "      <th>118</th>\n",
       "      <td>DRA12</td>\n",
       "      <td>11.6</td>\n",
       "      <td>Low Fat</td>\n",
       "      <td>0.041178</td>\n",
       "      <td>Soft Drinks</td>\n",
       "      <td>140.3154</td>\n",
       "      <td>OUT017</td>\n",
       "      <td>2</td>\n",
       "      <td>1</td>\n",
       "      <td>Tier 2</td>\n",
       "      <td>Supermarket Type1</td>\n",
       "      <td>2552.6772</td>\n",
       "    </tr>\n",
       "    <tr>\n",
       "      <th>1197</th>\n",
       "      <td>DRA12</td>\n",
       "      <td>11.6</td>\n",
       "      <td>Low Fat</td>\n",
       "      <td>0.000000</td>\n",
       "      <td>Soft Drinks</td>\n",
       "      <td>141.6154</td>\n",
       "      <td>OUT045</td>\n",
       "      <td>7</td>\n",
       "      <td>1</td>\n",
       "      <td>Tier 2</td>\n",
       "      <td>Supermarket Type1</td>\n",
       "      <td>3829.0158</td>\n",
       "    </tr>\n",
       "    <tr>\n",
       "      <th>1245</th>\n",
       "      <td>DRA12</td>\n",
       "      <td>11.6</td>\n",
       "      <td>Low Fat</td>\n",
       "      <td>0.040912</td>\n",
       "      <td>Soft Drinks</td>\n",
       "      <td>142.3154</td>\n",
       "      <td>OUT013</td>\n",
       "      <td>22</td>\n",
       "      <td>3</td>\n",
       "      <td>Tier 3</td>\n",
       "      <td>Supermarket Type1</td>\n",
       "      <td>2552.6772</td>\n",
       "    </tr>\n",
       "    <tr>\n",
       "      <th>1693</th>\n",
       "      <td>DRA12</td>\n",
       "      <td>11.6</td>\n",
       "      <td>LF</td>\n",
       "      <td>0.000000</td>\n",
       "      <td>Soft Drinks</td>\n",
       "      <td>141.9154</td>\n",
       "      <td>OUT035</td>\n",
       "      <td>5</td>\n",
       "      <td>1</td>\n",
       "      <td>Tier 2</td>\n",
       "      <td>Supermarket Type1</td>\n",
       "      <td>992.7078</td>\n",
       "    </tr>\n",
       "    <tr>\n",
       "      <th>7467</th>\n",
       "      <td>DRA12</td>\n",
       "      <td>11.6</td>\n",
       "      <td>Low Fat</td>\n",
       "      <td>0.041113</td>\n",
       "      <td>Soft Drinks</td>\n",
       "      <td>142.0154</td>\n",
       "      <td>OUT018</td>\n",
       "      <td>0</td>\n",
       "      <td>2</td>\n",
       "      <td>Tier 3</td>\n",
       "      <td>Supermarket Type2</td>\n",
       "      <td>850.8924</td>\n",
       "    </tr>\n",
       "  </tbody>\n",
       "</table>\n",
       "</div>"
      ],
      "text/plain": [
       "     Item_Identifier  Item_Weight Item_Fat_Content  Item_Visibility  \\\n",
       "118            DRA12         11.6          Low Fat         0.041178   \n",
       "1197           DRA12         11.6          Low Fat         0.000000   \n",
       "1245           DRA12         11.6          Low Fat         0.040912   \n",
       "1693           DRA12         11.6               LF         0.000000   \n",
       "7467           DRA12         11.6          Low Fat         0.041113   \n",
       "\n",
       "        Item_Type  Item_MRP Outlet_Identifier  Outlet_Establishment_Year  \\\n",
       "118   Soft Drinks  140.3154            OUT017                          2   \n",
       "1197  Soft Drinks  141.6154            OUT045                          7   \n",
       "1245  Soft Drinks  142.3154            OUT013                         22   \n",
       "1693  Soft Drinks  141.9154            OUT035                          5   \n",
       "7467  Soft Drinks  142.0154            OUT018                          0   \n",
       "\n",
       "      Outlet_Size Outlet_Location_Type        Outlet_Type  Item_Outlet_Sales  \n",
       "118             1               Tier 2  Supermarket Type1          2552.6772  \n",
       "1197            1               Tier 2  Supermarket Type1          3829.0158  \n",
       "1245            3               Tier 3  Supermarket Type1          2552.6772  \n",
       "1693            1               Tier 2  Supermarket Type1           992.7078  \n",
       "7467            2               Tier 3  Supermarket Type2           850.8924  "
      ]
     },
     "execution_count": 50,
     "metadata": {},
     "output_type": "execute_result"
    }
   ],
   "source": [
    "df.head()"
   ]
  },
  {
   "cell_type": "code",
   "execution_count": 51,
   "id": "2a4d1a14",
   "metadata": {},
   "outputs": [
    {
     "data": {
      "text/plain": [
       "array(['Low Fat', 'LF', 'Regular', 'reg', 'low fat'], dtype=object)"
      ]
     },
     "execution_count": 51,
     "metadata": {},
     "output_type": "execute_result"
    }
   ],
   "source": [
    "df[\"Item_Fat_Content\"].unique()"
   ]
  },
  {
   "cell_type": "code",
   "execution_count": 52,
   "id": "67abc653",
   "metadata": {},
   "outputs": [],
   "source": [
    "def fun5(x):\n",
    "    if x==\"Low Fat\" or x==\"LF\":\n",
    "        return \"low fat\"\n",
    "    elif x == \"Regular\" or x == \"reg\":\n",
    "        return \"regular\"\n",
    "    else:\n",
    "        return x\n",
    "        "
   ]
  },
  {
   "cell_type": "code",
   "execution_count": 53,
   "id": "98f059a9",
   "metadata": {},
   "outputs": [
    {
     "name": "stderr",
     "output_type": "stream",
     "text": [
      "C:\\Users\\41779\\AppData\\Local\\Temp\\ipykernel_10980\\2991408584.py:1: SettingWithCopyWarning: \n",
      "A value is trying to be set on a copy of a slice from a DataFrame.\n",
      "Try using .loc[row_indexer,col_indexer] = value instead\n",
      "\n",
      "See the caveats in the documentation: https://pandas.pydata.org/pandas-docs/stable/user_guide/indexing.html#returning-a-view-versus-a-copy\n",
      "  df[\"Item_Fat_Content\"] = df[\"Item_Fat_Content\"].apply(fun5)\n"
     ]
    }
   ],
   "source": [
    "df[\"Item_Fat_Content\"] = df[\"Item_Fat_Content\"].apply(fun5)"
   ]
  },
  {
   "cell_type": "code",
   "execution_count": 54,
   "id": "b8a1a85c",
   "metadata": {},
   "outputs": [
    {
     "data": {
      "text/plain": [
       "array(['low fat', 'regular'], dtype=object)"
      ]
     },
     "execution_count": 54,
     "metadata": {},
     "output_type": "execute_result"
    }
   ],
   "source": [
    "df[\"Item_Fat_Content\"].unique()"
   ]
  },
  {
   "cell_type": "code",
   "execution_count": 55,
   "id": "4244e22b",
   "metadata": {},
   "outputs": [
    {
     "data": {
      "text/plain": [
       "array(['Low Fat', 'LF', 'Regular', 'reg', 'low fat'], dtype=object)"
      ]
     },
     "execution_count": 55,
     "metadata": {},
     "output_type": "execute_result"
    }
   ],
   "source": [
    "df_test[\"Item_Fat_Content\"].unique()"
   ]
  },
  {
   "cell_type": "code",
   "execution_count": 56,
   "id": "1e94cb15",
   "metadata": {},
   "outputs": [
    {
     "name": "stderr",
     "output_type": "stream",
     "text": [
      "C:\\Users\\41779\\AppData\\Local\\Temp\\ipykernel_10980\\2569683422.py:1: SettingWithCopyWarning: \n",
      "A value is trying to be set on a copy of a slice from a DataFrame.\n",
      "Try using .loc[row_indexer,col_indexer] = value instead\n",
      "\n",
      "See the caveats in the documentation: https://pandas.pydata.org/pandas-docs/stable/user_guide/indexing.html#returning-a-view-versus-a-copy\n",
      "  df_test[\"Item_Fat_Content\"] = df_test[\"Item_Fat_Content\"].apply(fun5)\n"
     ]
    }
   ],
   "source": [
    "df_test[\"Item_Fat_Content\"] = df_test[\"Item_Fat_Content\"].apply(fun5)"
   ]
  },
  {
   "cell_type": "code",
   "execution_count": 57,
   "id": "94511be1",
   "metadata": {},
   "outputs": [
    {
     "data": {
      "text/plain": [
       "array(['low fat', 'regular'], dtype=object)"
      ]
     },
     "execution_count": 57,
     "metadata": {},
     "output_type": "execute_result"
    }
   ],
   "source": [
    "df_test[\"Item_Fat_Content\"].unique()"
   ]
  },
  {
   "cell_type": "code",
   "execution_count": 58,
   "id": "3c8c2226",
   "metadata": {},
   "outputs": [
    {
     "name": "stderr",
     "output_type": "stream",
     "text": [
      "C:\\Users\\41779\\AppData\\Local\\Temp\\ipykernel_10980\\1141448354.py:1: SettingWithCopyWarning: \n",
      "A value is trying to be set on a copy of a slice from a DataFrame.\n",
      "Try using .loc[row_indexer,col_indexer] = value instead\n",
      "\n",
      "See the caveats in the documentation: https://pandas.pydata.org/pandas-docs/stable/user_guide/indexing.html#returning-a-view-versus-a-copy\n",
      "  df[\"Item_Identifier\"] = df[\"Item_Identifier\"].apply(lambda x:x[:2])\n"
     ]
    }
   ],
   "source": [
    "df[\"Item_Identifier\"] = df[\"Item_Identifier\"].apply(lambda x:x[:2])"
   ]
  },
  {
   "cell_type": "code",
   "execution_count": 59,
   "id": "93e67026",
   "metadata": {},
   "outputs": [
    {
     "name": "stderr",
     "output_type": "stream",
     "text": [
      "C:\\Users\\41779\\AppData\\Local\\Temp\\ipykernel_10980\\2591777330.py:1: SettingWithCopyWarning: \n",
      "A value is trying to be set on a copy of a slice from a DataFrame.\n",
      "Try using .loc[row_indexer,col_indexer] = value instead\n",
      "\n",
      "See the caveats in the documentation: https://pandas.pydata.org/pandas-docs/stable/user_guide/indexing.html#returning-a-view-versus-a-copy\n",
      "  df[\"Item_Identifier\"] = df[\"Item_Identifier\"].replace({\"DR\":\"Drink\",\"NC\":\"Non_consumable\",\"FD\":\"Food\"})\n"
     ]
    }
   ],
   "source": [
    "df[\"Item_Identifier\"] = df[\"Item_Identifier\"].replace({\"DR\":\"Drink\",\"NC\":\"Non_consumable\",\"FD\":\"Food\"})"
   ]
  },
  {
   "cell_type": "code",
   "execution_count": 60,
   "id": "69a1abab",
   "metadata": {},
   "outputs": [
    {
     "data": {
      "text/plain": [
       "array(['Drink', 'Food', 'Non_consumable'], dtype=object)"
      ]
     },
     "execution_count": 60,
     "metadata": {},
     "output_type": "execute_result"
    }
   ],
   "source": [
    "df[\"Item_Identifier\"].unique()"
   ]
  },
  {
   "cell_type": "code",
   "execution_count": 61,
   "id": "e8690a26",
   "metadata": {},
   "outputs": [
    {
     "name": "stderr",
     "output_type": "stream",
     "text": [
      "C:\\Users\\41779\\AppData\\Local\\Temp\\ipykernel_10980\\1720349124.py:1: SettingWithCopyWarning: \n",
      "A value is trying to be set on a copy of a slice from a DataFrame.\n",
      "Try using .loc[row_indexer,col_indexer] = value instead\n",
      "\n",
      "See the caveats in the documentation: https://pandas.pydata.org/pandas-docs/stable/user_guide/indexing.html#returning-a-view-versus-a-copy\n",
      "  df_test[\"Item_Identifier\"] = df_test[\"Item_Identifier\"].apply(lambda x:x[:2])\n"
     ]
    }
   ],
   "source": [
    "df_test[\"Item_Identifier\"] = df_test[\"Item_Identifier\"].apply(lambda x:x[:2])"
   ]
  },
  {
   "cell_type": "code",
   "execution_count": 62,
   "id": "593b64a5",
   "metadata": {},
   "outputs": [
    {
     "name": "stderr",
     "output_type": "stream",
     "text": [
      "C:\\Users\\41779\\AppData\\Local\\Temp\\ipykernel_10980\\2415236101.py:1: SettingWithCopyWarning: \n",
      "A value is trying to be set on a copy of a slice from a DataFrame.\n",
      "Try using .loc[row_indexer,col_indexer] = value instead\n",
      "\n",
      "See the caveats in the documentation: https://pandas.pydata.org/pandas-docs/stable/user_guide/indexing.html#returning-a-view-versus-a-copy\n",
      "  df_test[\"Item_Identifier\"] = df_test[\"Item_Identifier\"].replace({\"DR\":\"Drink\",\"NC\":\"Non_consumable\",\"FD\":\"Food\"})\n"
     ]
    }
   ],
   "source": [
    "df_test[\"Item_Identifier\"] = df_test[\"Item_Identifier\"].replace({\"DR\":\"Drink\",\"NC\":\"Non_consumable\",\"FD\":\"Food\"})"
   ]
  },
  {
   "cell_type": "code",
   "execution_count": 63,
   "id": "dfe4e696",
   "metadata": {},
   "outputs": [
    {
     "data": {
      "text/plain": [
       "array(['Drink', 'Food', 'Non_consumable'], dtype=object)"
      ]
     },
     "execution_count": 63,
     "metadata": {},
     "output_type": "execute_result"
    }
   ],
   "source": [
    "df_test[\"Item_Identifier\"].unique()"
   ]
  },
  {
   "cell_type": "code",
   "execution_count": 64,
   "id": "1407fe66",
   "metadata": {},
   "outputs": [
    {
     "data": {
      "text/plain": [
       "0.06611236082486217"
      ]
     },
     "execution_count": 64,
     "metadata": {},
     "output_type": "execute_result"
    }
   ],
   "source": [
    "df[\"Item_Visibility\"].mean()"
   ]
  },
  {
   "cell_type": "code",
   "execution_count": 65,
   "id": "a32e492c",
   "metadata": {},
   "outputs": [
    {
     "name": "stderr",
     "output_type": "stream",
     "text": [
      "C:\\Users\\41779\\AppData\\Local\\Temp\\ipykernel_10980\\4174461339.py:1: SettingWithCopyWarning: \n",
      "A value is trying to be set on a copy of a slice from a DataFrame.\n",
      "Try using .loc[row_indexer,col_indexer] = value instead\n",
      "\n",
      "See the caveats in the documentation: https://pandas.pydata.org/pandas-docs/stable/user_guide/indexing.html#returning-a-view-versus-a-copy\n",
      "  df[\"Item_Visibility\"] = df[\"Item_Visibility\"].replace(0,df[\"Item_Visibility\"].mean())\n"
     ]
    }
   ],
   "source": [
    "df[\"Item_Visibility\"] = df[\"Item_Visibility\"].replace(0,df[\"Item_Visibility\"].mean())"
   ]
  },
  {
   "cell_type": "code",
   "execution_count": 66,
   "id": "5d83d753",
   "metadata": {},
   "outputs": [
    {
     "name": "stderr",
     "output_type": "stream",
     "text": [
      "C:\\Users\\41779\\AppData\\Local\\Temp\\ipykernel_10980\\203038496.py:1: SettingWithCopyWarning: \n",
      "A value is trying to be set on a copy of a slice from a DataFrame.\n",
      "Try using .loc[row_indexer,col_indexer] = value instead\n",
      "\n",
      "See the caveats in the documentation: https://pandas.pydata.org/pandas-docs/stable/user_guide/indexing.html#returning-a-view-versus-a-copy\n",
      "  df_test[\"Item_Visibility\"] = df_test[\"Item_Visibility\"].replace(0,df_test[\"Item_Visibility\"].mean())\n"
     ]
    }
   ],
   "source": [
    "df_test[\"Item_Visibility\"] = df_test[\"Item_Visibility\"].replace(0,df_test[\"Item_Visibility\"].mean())"
   ]
  },
  {
   "cell_type": "code",
   "execution_count": 67,
   "id": "9319af5e",
   "metadata": {},
   "outputs": [
    {
     "data": {
      "text/html": [
       "<div>\n",
       "<style scoped>\n",
       "    .dataframe tbody tr th:only-of-type {\n",
       "        vertical-align: middle;\n",
       "    }\n",
       "\n",
       "    .dataframe tbody tr th {\n",
       "        vertical-align: top;\n",
       "    }\n",
       "\n",
       "    .dataframe thead th {\n",
       "        text-align: right;\n",
       "    }\n",
       "</style>\n",
       "<table border=\"1\" class=\"dataframe\">\n",
       "  <thead>\n",
       "    <tr style=\"text-align: right;\">\n",
       "      <th></th>\n",
       "      <th>Item_Identifier</th>\n",
       "      <th>Item_Weight</th>\n",
       "      <th>Item_Fat_Content</th>\n",
       "      <th>Item_Visibility</th>\n",
       "      <th>Item_Type</th>\n",
       "      <th>Item_MRP</th>\n",
       "      <th>Outlet_Identifier</th>\n",
       "      <th>Outlet_Establishment_Year</th>\n",
       "      <th>Outlet_Size</th>\n",
       "      <th>Outlet_Location_Type</th>\n",
       "      <th>Outlet_Type</th>\n",
       "      <th>Item_Outlet_Sales</th>\n",
       "    </tr>\n",
       "  </thead>\n",
       "  <tbody>\n",
       "    <tr>\n",
       "      <th>118</th>\n",
       "      <td>Drink</td>\n",
       "      <td>11.6</td>\n",
       "      <td>low fat</td>\n",
       "      <td>0.041178</td>\n",
       "      <td>Soft Drinks</td>\n",
       "      <td>140.3154</td>\n",
       "      <td>OUT017</td>\n",
       "      <td>2</td>\n",
       "      <td>1</td>\n",
       "      <td>Tier 2</td>\n",
       "      <td>Supermarket Type1</td>\n",
       "      <td>2552.6772</td>\n",
       "    </tr>\n",
       "    <tr>\n",
       "      <th>1197</th>\n",
       "      <td>Drink</td>\n",
       "      <td>11.6</td>\n",
       "      <td>low fat</td>\n",
       "      <td>0.066112</td>\n",
       "      <td>Soft Drinks</td>\n",
       "      <td>141.6154</td>\n",
       "      <td>OUT045</td>\n",
       "      <td>7</td>\n",
       "      <td>1</td>\n",
       "      <td>Tier 2</td>\n",
       "      <td>Supermarket Type1</td>\n",
       "      <td>3829.0158</td>\n",
       "    </tr>\n",
       "    <tr>\n",
       "      <th>1245</th>\n",
       "      <td>Drink</td>\n",
       "      <td>11.6</td>\n",
       "      <td>low fat</td>\n",
       "      <td>0.040912</td>\n",
       "      <td>Soft Drinks</td>\n",
       "      <td>142.3154</td>\n",
       "      <td>OUT013</td>\n",
       "      <td>22</td>\n",
       "      <td>3</td>\n",
       "      <td>Tier 3</td>\n",
       "      <td>Supermarket Type1</td>\n",
       "      <td>2552.6772</td>\n",
       "    </tr>\n",
       "    <tr>\n",
       "      <th>1693</th>\n",
       "      <td>Drink</td>\n",
       "      <td>11.6</td>\n",
       "      <td>low fat</td>\n",
       "      <td>0.066112</td>\n",
       "      <td>Soft Drinks</td>\n",
       "      <td>141.9154</td>\n",
       "      <td>OUT035</td>\n",
       "      <td>5</td>\n",
       "      <td>1</td>\n",
       "      <td>Tier 2</td>\n",
       "      <td>Supermarket Type1</td>\n",
       "      <td>992.7078</td>\n",
       "    </tr>\n",
       "    <tr>\n",
       "      <th>7467</th>\n",
       "      <td>Drink</td>\n",
       "      <td>11.6</td>\n",
       "      <td>low fat</td>\n",
       "      <td>0.041113</td>\n",
       "      <td>Soft Drinks</td>\n",
       "      <td>142.0154</td>\n",
       "      <td>OUT018</td>\n",
       "      <td>0</td>\n",
       "      <td>2</td>\n",
       "      <td>Tier 3</td>\n",
       "      <td>Supermarket Type2</td>\n",
       "      <td>850.8924</td>\n",
       "    </tr>\n",
       "  </tbody>\n",
       "</table>\n",
       "</div>"
      ],
      "text/plain": [
       "     Item_Identifier  Item_Weight Item_Fat_Content  Item_Visibility  \\\n",
       "118            Drink         11.6          low fat         0.041178   \n",
       "1197           Drink         11.6          low fat         0.066112   \n",
       "1245           Drink         11.6          low fat         0.040912   \n",
       "1693           Drink         11.6          low fat         0.066112   \n",
       "7467           Drink         11.6          low fat         0.041113   \n",
       "\n",
       "        Item_Type  Item_MRP Outlet_Identifier  Outlet_Establishment_Year  \\\n",
       "118   Soft Drinks  140.3154            OUT017                          2   \n",
       "1197  Soft Drinks  141.6154            OUT045                          7   \n",
       "1245  Soft Drinks  142.3154            OUT013                         22   \n",
       "1693  Soft Drinks  141.9154            OUT035                          5   \n",
       "7467  Soft Drinks  142.0154            OUT018                          0   \n",
       "\n",
       "      Outlet_Size Outlet_Location_Type        Outlet_Type  Item_Outlet_Sales  \n",
       "118             1               Tier 2  Supermarket Type1          2552.6772  \n",
       "1197            1               Tier 2  Supermarket Type1          3829.0158  \n",
       "1245            3               Tier 3  Supermarket Type1          2552.6772  \n",
       "1693            1               Tier 2  Supermarket Type1           992.7078  \n",
       "7467            2               Tier 3  Supermarket Type2           850.8924  "
      ]
     },
     "execution_count": 67,
     "metadata": {},
     "output_type": "execute_result"
    }
   ],
   "source": [
    "df.head()"
   ]
  },
  {
   "cell_type": "code",
   "execution_count": 68,
   "id": "6d5d7e11",
   "metadata": {},
   "outputs": [
    {
     "data": {
      "text/html": [
       "<div>\n",
       "<style scoped>\n",
       "    .dataframe tbody tr th:only-of-type {\n",
       "        vertical-align: middle;\n",
       "    }\n",
       "\n",
       "    .dataframe tbody tr th {\n",
       "        vertical-align: top;\n",
       "    }\n",
       "\n",
       "    .dataframe thead th {\n",
       "        text-align: right;\n",
       "    }\n",
       "</style>\n",
       "<table border=\"1\" class=\"dataframe\">\n",
       "  <thead>\n",
       "    <tr style=\"text-align: right;\">\n",
       "      <th></th>\n",
       "      <th>Item_Weight</th>\n",
       "      <th>Item_Visibility</th>\n",
       "      <th>Item_MRP</th>\n",
       "      <th>Outlet_Establishment_Year</th>\n",
       "      <th>Outlet_Size</th>\n",
       "      <th>Item_Outlet_Sales</th>\n",
       "    </tr>\n",
       "  </thead>\n",
       "  <tbody>\n",
       "    <tr>\n",
       "      <th>Item_Weight</th>\n",
       "      <td>1.000000</td>\n",
       "      <td>-0.017483</td>\n",
       "      <td>0.025975</td>\n",
       "      <td>0.013426</td>\n",
       "      <td>0.012425</td>\n",
       "      <td>0.013168</td>\n",
       "    </tr>\n",
       "    <tr>\n",
       "      <th>Item_Visibility</th>\n",
       "      <td>-0.017483</td>\n",
       "      <td>1.000000</td>\n",
       "      <td>-0.005115</td>\n",
       "      <td>0.077878</td>\n",
       "      <td>-0.097407</td>\n",
       "      <td>-0.133788</td>\n",
       "    </tr>\n",
       "    <tr>\n",
       "      <th>Item_MRP</th>\n",
       "      <td>0.025975</td>\n",
       "      <td>-0.005115</td>\n",
       "      <td>1.000000</td>\n",
       "      <td>-0.004599</td>\n",
       "      <td>-0.000743</td>\n",
       "      <td>0.567803</td>\n",
       "    </tr>\n",
       "    <tr>\n",
       "      <th>Outlet_Establishment_Year</th>\n",
       "      <td>0.013426</td>\n",
       "      <td>0.077878</td>\n",
       "      <td>-0.004599</td>\n",
       "      <td>1.000000</td>\n",
       "      <td>0.425604</td>\n",
       "      <td>0.049083</td>\n",
       "    </tr>\n",
       "    <tr>\n",
       "      <th>Outlet_Size</th>\n",
       "      <td>0.012425</td>\n",
       "      <td>-0.097407</td>\n",
       "      <td>-0.000743</td>\n",
       "      <td>0.425604</td>\n",
       "      <td>1.000000</td>\n",
       "      <td>0.162563</td>\n",
       "    </tr>\n",
       "    <tr>\n",
       "      <th>Item_Outlet_Sales</th>\n",
       "      <td>0.013168</td>\n",
       "      <td>-0.133788</td>\n",
       "      <td>0.567803</td>\n",
       "      <td>0.049083</td>\n",
       "      <td>0.162563</td>\n",
       "      <td>1.000000</td>\n",
       "    </tr>\n",
       "  </tbody>\n",
       "</table>\n",
       "</div>"
      ],
      "text/plain": [
       "                           Item_Weight  Item_Visibility  Item_MRP  \\\n",
       "Item_Weight                   1.000000        -0.017483  0.025975   \n",
       "Item_Visibility              -0.017483         1.000000 -0.005115   \n",
       "Item_MRP                      0.025975        -0.005115  1.000000   \n",
       "Outlet_Establishment_Year     0.013426         0.077878 -0.004599   \n",
       "Outlet_Size                   0.012425        -0.097407 -0.000743   \n",
       "Item_Outlet_Sales             0.013168        -0.133788  0.567803   \n",
       "\n",
       "                           Outlet_Establishment_Year  Outlet_Size  \\\n",
       "Item_Weight                                 0.013426     0.012425   \n",
       "Item_Visibility                             0.077878    -0.097407   \n",
       "Item_MRP                                   -0.004599    -0.000743   \n",
       "Outlet_Establishment_Year                   1.000000     0.425604   \n",
       "Outlet_Size                                 0.425604     1.000000   \n",
       "Item_Outlet_Sales                           0.049083     0.162563   \n",
       "\n",
       "                           Item_Outlet_Sales  \n",
       "Item_Weight                         0.013168  \n",
       "Item_Visibility                    -0.133788  \n",
       "Item_MRP                            0.567803  \n",
       "Outlet_Establishment_Year           0.049083  \n",
       "Outlet_Size                         0.162563  \n",
       "Item_Outlet_Sales                   1.000000  "
      ]
     },
     "execution_count": 68,
     "metadata": {},
     "output_type": "execute_result"
    }
   ],
   "source": [
    "df.corr()"
   ]
  },
  {
   "cell_type": "code",
   "execution_count": 69,
   "id": "5f162e86",
   "metadata": {},
   "outputs": [],
   "source": [
    "def func6(x1,x2):\n",
    "    if x1 == \"Non_consumable\":\n",
    "        x2 = \"Non_Edible\"\n",
    "        return x2\n",
    "    else:\n",
    "        return x2"
   ]
  },
  {
   "cell_type": "code",
   "execution_count": 70,
   "id": "f35b07c6",
   "metadata": {},
   "outputs": [
    {
     "name": "stderr",
     "output_type": "stream",
     "text": [
      "C:\\Users\\41779\\AppData\\Local\\Temp\\ipykernel_10980\\94758895.py:1: SettingWithCopyWarning: \n",
      "A value is trying to be set on a copy of a slice from a DataFrame.\n",
      "Try using .loc[row_indexer,col_indexer] = value instead\n",
      "\n",
      "See the caveats in the documentation: https://pandas.pydata.org/pandas-docs/stable/user_guide/indexing.html#returning-a-view-versus-a-copy\n",
      "  df[\"Item_Fat_Content\"]=df.apply(lambda x: func6(x[\"Item_Identifier\"], x[\"Item_Fat_Content\"]), axis=1)\n"
     ]
    }
   ],
   "source": [
    "df[\"Item_Fat_Content\"]=df.apply(lambda x: func6(x[\"Item_Identifier\"], x[\"Item_Fat_Content\"]), axis=1)"
   ]
  },
  {
   "cell_type": "code",
   "execution_count": 71,
   "id": "65fc7daf",
   "metadata": {},
   "outputs": [
    {
     "data": {
      "text/plain": [
       "array(['low fat', 'regular', 'Non_Edible'], dtype=object)"
      ]
     },
     "execution_count": 71,
     "metadata": {},
     "output_type": "execute_result"
    }
   ],
   "source": [
    "df[\"Item_Fat_Content\"].unique()"
   ]
  },
  {
   "cell_type": "code",
   "execution_count": 72,
   "id": "4c03ade8",
   "metadata": {},
   "outputs": [
    {
     "name": "stderr",
     "output_type": "stream",
     "text": [
      "C:\\Users\\41779\\AppData\\Local\\Temp\\ipykernel_10980\\2747851775.py:1: SettingWithCopyWarning: \n",
      "A value is trying to be set on a copy of a slice from a DataFrame.\n",
      "Try using .loc[row_indexer,col_indexer] = value instead\n",
      "\n",
      "See the caveats in the documentation: https://pandas.pydata.org/pandas-docs/stable/user_guide/indexing.html#returning-a-view-versus-a-copy\n",
      "  df_test[\"Item_Fat_Content\"]=df_test.apply(lambda x: func6(x[\"Item_Identifier\"], x[\"Item_Fat_Content\"]), axis=1)\n"
     ]
    }
   ],
   "source": [
    "df_test[\"Item_Fat_Content\"]=df_test.apply(lambda x: func6(x[\"Item_Identifier\"], x[\"Item_Fat_Content\"]), axis=1)"
   ]
  },
  {
   "cell_type": "code",
   "execution_count": 73,
   "id": "a5399ea1",
   "metadata": {},
   "outputs": [
    {
     "data": {
      "text/plain": [
       "array(['low fat', 'regular', 'Non_Edible'], dtype=object)"
      ]
     },
     "execution_count": 73,
     "metadata": {},
     "output_type": "execute_result"
    }
   ],
   "source": [
    "df_test[\"Item_Fat_Content\"].unique()"
   ]
  },
  {
   "cell_type": "code",
   "execution_count": 74,
   "id": "395c2282",
   "metadata": {},
   "outputs": [
    {
     "data": {
      "text/html": [
       "<div>\n",
       "<style scoped>\n",
       "    .dataframe tbody tr th:only-of-type {\n",
       "        vertical-align: middle;\n",
       "    }\n",
       "\n",
       "    .dataframe tbody tr th {\n",
       "        vertical-align: top;\n",
       "    }\n",
       "\n",
       "    .dataframe thead th {\n",
       "        text-align: right;\n",
       "    }\n",
       "</style>\n",
       "<table border=\"1\" class=\"dataframe\">\n",
       "  <thead>\n",
       "    <tr style=\"text-align: right;\">\n",
       "      <th></th>\n",
       "      <th>Item_Identifier</th>\n",
       "      <th>Item_Weight</th>\n",
       "      <th>Item_Fat_Content</th>\n",
       "      <th>Item_Visibility</th>\n",
       "      <th>Item_Type</th>\n",
       "      <th>Item_MRP</th>\n",
       "      <th>Outlet_Identifier</th>\n",
       "      <th>Outlet_Establishment_Year</th>\n",
       "      <th>Outlet_Size</th>\n",
       "      <th>Outlet_Location_Type</th>\n",
       "      <th>Outlet_Type</th>\n",
       "      <th>Item_Outlet_Sales</th>\n",
       "    </tr>\n",
       "  </thead>\n",
       "  <tbody>\n",
       "    <tr>\n",
       "      <th>118</th>\n",
       "      <td>Drink</td>\n",
       "      <td>11.6</td>\n",
       "      <td>low fat</td>\n",
       "      <td>0.041178</td>\n",
       "      <td>Soft Drinks</td>\n",
       "      <td>140.3154</td>\n",
       "      <td>OUT017</td>\n",
       "      <td>2</td>\n",
       "      <td>1</td>\n",
       "      <td>Tier 2</td>\n",
       "      <td>Supermarket Type1</td>\n",
       "      <td>2552.6772</td>\n",
       "    </tr>\n",
       "    <tr>\n",
       "      <th>1197</th>\n",
       "      <td>Drink</td>\n",
       "      <td>11.6</td>\n",
       "      <td>low fat</td>\n",
       "      <td>0.066112</td>\n",
       "      <td>Soft Drinks</td>\n",
       "      <td>141.6154</td>\n",
       "      <td>OUT045</td>\n",
       "      <td>7</td>\n",
       "      <td>1</td>\n",
       "      <td>Tier 2</td>\n",
       "      <td>Supermarket Type1</td>\n",
       "      <td>3829.0158</td>\n",
       "    </tr>\n",
       "    <tr>\n",
       "      <th>1245</th>\n",
       "      <td>Drink</td>\n",
       "      <td>11.6</td>\n",
       "      <td>low fat</td>\n",
       "      <td>0.040912</td>\n",
       "      <td>Soft Drinks</td>\n",
       "      <td>142.3154</td>\n",
       "      <td>OUT013</td>\n",
       "      <td>22</td>\n",
       "      <td>3</td>\n",
       "      <td>Tier 3</td>\n",
       "      <td>Supermarket Type1</td>\n",
       "      <td>2552.6772</td>\n",
       "    </tr>\n",
       "    <tr>\n",
       "      <th>1693</th>\n",
       "      <td>Drink</td>\n",
       "      <td>11.6</td>\n",
       "      <td>low fat</td>\n",
       "      <td>0.066112</td>\n",
       "      <td>Soft Drinks</td>\n",
       "      <td>141.9154</td>\n",
       "      <td>OUT035</td>\n",
       "      <td>5</td>\n",
       "      <td>1</td>\n",
       "      <td>Tier 2</td>\n",
       "      <td>Supermarket Type1</td>\n",
       "      <td>992.7078</td>\n",
       "    </tr>\n",
       "    <tr>\n",
       "      <th>7467</th>\n",
       "      <td>Drink</td>\n",
       "      <td>11.6</td>\n",
       "      <td>low fat</td>\n",
       "      <td>0.041113</td>\n",
       "      <td>Soft Drinks</td>\n",
       "      <td>142.0154</td>\n",
       "      <td>OUT018</td>\n",
       "      <td>0</td>\n",
       "      <td>2</td>\n",
       "      <td>Tier 3</td>\n",
       "      <td>Supermarket Type2</td>\n",
       "      <td>850.8924</td>\n",
       "    </tr>\n",
       "  </tbody>\n",
       "</table>\n",
       "</div>"
      ],
      "text/plain": [
       "     Item_Identifier  Item_Weight Item_Fat_Content  Item_Visibility  \\\n",
       "118            Drink         11.6          low fat         0.041178   \n",
       "1197           Drink         11.6          low fat         0.066112   \n",
       "1245           Drink         11.6          low fat         0.040912   \n",
       "1693           Drink         11.6          low fat         0.066112   \n",
       "7467           Drink         11.6          low fat         0.041113   \n",
       "\n",
       "        Item_Type  Item_MRP Outlet_Identifier  Outlet_Establishment_Year  \\\n",
       "118   Soft Drinks  140.3154            OUT017                          2   \n",
       "1197  Soft Drinks  141.6154            OUT045                          7   \n",
       "1245  Soft Drinks  142.3154            OUT013                         22   \n",
       "1693  Soft Drinks  141.9154            OUT035                          5   \n",
       "7467  Soft Drinks  142.0154            OUT018                          0   \n",
       "\n",
       "      Outlet_Size Outlet_Location_Type        Outlet_Type  Item_Outlet_Sales  \n",
       "118             1               Tier 2  Supermarket Type1          2552.6772  \n",
       "1197            1               Tier 2  Supermarket Type1          3829.0158  \n",
       "1245            3               Tier 3  Supermarket Type1          2552.6772  \n",
       "1693            1               Tier 2  Supermarket Type1           992.7078  \n",
       "7467            2               Tier 3  Supermarket Type2           850.8924  "
      ]
     },
     "execution_count": 74,
     "metadata": {},
     "output_type": "execute_result"
    }
   ],
   "source": [
    "df.head()"
   ]
  },
  {
   "cell_type": "code",
   "execution_count": 75,
   "id": "20ccb24a",
   "metadata": {},
   "outputs": [
    {
     "data": {
      "text/plain": [
       "<matplotlib.collections.PathCollection at 0x24e5b3ffb20>"
      ]
     },
     "execution_count": 75,
     "metadata": {},
     "output_type": "execute_result"
    },
    {
     "data": {
      "image/png": "[encoded data removed]",
      "text/plain": [
       "<Figure size 432x288 with 1 Axes>"
      ]
     },
     "metadata": {
      "needs_background": "light"
     },
     "output_type": "display_data"
    }
   ],
   "source": [
    "plt.scatter(\"Outlet_Location_Type\",\"Item_Outlet_Sales\",data=df)"
   ]
  },
  {
   "cell_type": "code",
   "execution_count": 76,
   "id": "7f5a8d84",
   "metadata": {},
   "outputs": [
    {
     "data": {
      "text/plain": [
       "<matplotlib.collections.PathCollection at 0x24e59d64bb0>"
      ]
     },
     "execution_count": 76,
     "metadata": {},
     "output_type": "execute_result"
    },
    {
     "data": {
      "image/png": "[encoded data removed]",
      "text/plain": [
       "<Figure size 864x576 with 1 Axes>"
      ]
     },
     "metadata": {
      "needs_background": "light"
     },
     "output_type": "display_data"
    }
   ],
   "source": [
    "plt.figure(figsize=(12,8))\n",
    "plt.scatter(\"Outlet_Identifier\",\"Item_Outlet_Sales\",data=df)"
   ]
  },
  {
   "cell_type": "code",
   "execution_count": 77,
   "id": "003afc5c",
   "metadata": {},
   "outputs": [
    {
     "name": "stderr",
     "output_type": "stream",
     "text": [
      "C:\\Users\\41779\\anaconda3\\lib\\site-packages\\seaborn\\_decorators.py:36: FutureWarning: Pass the following variables as keyword args: x, y. From version 0.12, the only valid positional argument will be `data`, and passing other arguments without an explicit keyword will result in an error or misinterpretation.\n",
      "  warnings.warn(\n"
     ]
    },
    {
     "data": {
      "text/plain": [
       "<AxesSubplot:xlabel='Outlet_Establishment_Year', ylabel='Item_Outlet_Sales'>"
      ]
     },
     "execution_count": 77,
     "metadata": {},
     "output_type": "execute_result"
    },
    {
     "data": {
      "image/png": "[encoded data removed]",
      "text/plain": [
       "<Figure size 720x576 with 1 Axes>"
      ]
     },
     "metadata": {
      "needs_background": "light"
     },
     "output_type": "display_data"
    }
   ],
   "source": [
    "plt.figure(figsize=(10,8))\n",
    "sns.boxplot(\"Outlet_Establishment_Year\",\"Item_Outlet_Sales\",data=df)"
   ]
  },
  {
   "cell_type": "code",
   "execution_count": 78,
   "id": "8b4f6f98",
   "metadata": {},
   "outputs": [
    {
     "name": "stderr",
     "output_type": "stream",
     "text": [
      "C:\\Users\\41779\\anaconda3\\lib\\site-packages\\seaborn\\_decorators.py:36: FutureWarning: Pass the following variables as keyword args: x, y. From version 0.12, the only valid positional argument will be `data`, and passing other arguments without an explicit keyword will result in an error or misinterpretation.\n",
      "  warnings.warn(\n"
     ]
    },
    {
     "data": {
      "text/plain": [
       "<AxesSubplot:xlabel='Outlet_Establishment_Year', ylabel='Item_Outlet_Sales'>"
      ]
     },
     "execution_count": 78,
     "metadata": {},
     "output_type": "execute_result"
    },
    {
     "data": {
      "image/png": "[encoded data removed]",
      "text/plain": [
       "<Figure size 720x576 with 1 Axes>"
      ]
     },
     "metadata": {
      "needs_background": "light"
     },
     "output_type": "display_data"
    }
   ],
   "source": [
    "plt.figure(figsize=(10,8))\n",
    "sns.boxplot(\"Outlet_Establishment_Year\",\"Item_Outlet_Sales\",data=df)"
   ]
  },
  {
   "cell_type": "code",
   "execution_count": 79,
   "id": "4a948640",
   "metadata": {},
   "outputs": [],
   "source": [
    "df= df.drop(\"Outlet_Establishment_Year\",axis=1)"
   ]
  },
  {
   "cell_type": "code",
   "execution_count": 80,
   "id": "df916060",
   "metadata": {},
   "outputs": [],
   "source": [
    "df_test = df_test.drop(\"Outlet_Establishment_Year\",axis=1)"
   ]
  },
  {
   "cell_type": "code",
   "execution_count": 81,
   "id": "f1f9dae3",
   "metadata": {},
   "outputs": [
    {
     "data": {
      "text/plain": [
       "Item_Identifier          object\n",
       "Item_Weight             float64\n",
       "Item_Fat_Content         object\n",
       "Item_Visibility         float64\n",
       "Item_Type                object\n",
       "Item_MRP                float64\n",
       "Outlet_Identifier        object\n",
       "Outlet_Size               int64\n",
       "Outlet_Location_Type     object\n",
       "Outlet_Type              object\n",
       "Item_Outlet_Sales       float64\n",
       "dtype: object"
      ]
     },
     "execution_count": 81,
     "metadata": {},
     "output_type": "execute_result"
    }
   ],
   "source": [
    "df.dtypes"
   ]
  },
  {
   "cell_type": "code",
   "execution_count": 82,
   "id": "42146ddf",
   "metadata": {},
   "outputs": [
    {
     "data": {
      "text/html": [
       "<div>\n",
       "<style scoped>\n",
       "    .dataframe tbody tr th:only-of-type {\n",
       "        vertical-align: middle;\n",
       "    }\n",
       "\n",
       "    .dataframe tbody tr th {\n",
       "        vertical-align: top;\n",
       "    }\n",
       "\n",
       "    .dataframe thead th {\n",
       "        text-align: right;\n",
       "    }\n",
       "</style>\n",
       "<table border=\"1\" class=\"dataframe\">\n",
       "  <thead>\n",
       "    <tr style=\"text-align: right;\">\n",
       "      <th></th>\n",
       "      <th>Item_Identifier</th>\n",
       "      <th>Item_Weight</th>\n",
       "      <th>Item_Fat_Content</th>\n",
       "      <th>Item_Visibility</th>\n",
       "      <th>Item_Type</th>\n",
       "      <th>Item_MRP</th>\n",
       "      <th>Outlet_Identifier</th>\n",
       "      <th>Outlet_Size</th>\n",
       "      <th>Outlet_Location_Type</th>\n",
       "      <th>Outlet_Type</th>\n",
       "    </tr>\n",
       "  </thead>\n",
       "  <tbody>\n",
       "    <tr>\n",
       "      <th>500</th>\n",
       "      <td>Drink</td>\n",
       "      <td>11.60</td>\n",
       "      <td>low fat</td>\n",
       "      <td>0.040946</td>\n",
       "      <td>Soft Drinks</td>\n",
       "      <td>142.9154</td>\n",
       "      <td>OUT046</td>\n",
       "      <td>1</td>\n",
       "      <td>Tier 1</td>\n",
       "      <td>Supermarket Type1</td>\n",
       "    </tr>\n",
       "    <tr>\n",
       "      <th>3912</th>\n",
       "      <td>Drink</td>\n",
       "      <td>11.60</td>\n",
       "      <td>low fat</td>\n",
       "      <td>0.040748</td>\n",
       "      <td>Soft Drinks</td>\n",
       "      <td>140.0154</td>\n",
       "      <td>OUT027</td>\n",
       "      <td>2</td>\n",
       "      <td>Tier 3</td>\n",
       "      <td>Supermarket Type3</td>\n",
       "    </tr>\n",
       "    <tr>\n",
       "      <th>5081</th>\n",
       "      <td>Drink</td>\n",
       "      <td>11.60</td>\n",
       "      <td>low fat</td>\n",
       "      <td>0.041010</td>\n",
       "      <td>Soft Drinks</td>\n",
       "      <td>141.0154</td>\n",
       "      <td>OUT049</td>\n",
       "      <td>2</td>\n",
       "      <td>Tier 1</td>\n",
       "      <td>Supermarket Type1</td>\n",
       "    </tr>\n",
       "    <tr>\n",
       "      <th>1211</th>\n",
       "      <td>Drink</td>\n",
       "      <td>19.35</td>\n",
       "      <td>regular</td>\n",
       "      <td>0.040009</td>\n",
       "      <td>Soft Drinks</td>\n",
       "      <td>163.2868</td>\n",
       "      <td>OUT045</td>\n",
       "      <td>1</td>\n",
       "      <td>Tier 2</td>\n",
       "      <td>Supermarket Type1</td>\n",
       "    </tr>\n",
       "    <tr>\n",
       "      <th>2847</th>\n",
       "      <td>Drink</td>\n",
       "      <td>19.35</td>\n",
       "      <td>regular</td>\n",
       "      <td>0.040091</td>\n",
       "      <td>Soft Drinks</td>\n",
       "      <td>163.6868</td>\n",
       "      <td>OUT018</td>\n",
       "      <td>2</td>\n",
       "      <td>Tier 3</td>\n",
       "      <td>Supermarket Type2</td>\n",
       "    </tr>\n",
       "  </tbody>\n",
       "</table>\n",
       "</div>"
      ],
      "text/plain": [
       "     Item_Identifier  Item_Weight Item_Fat_Content  Item_Visibility  \\\n",
       "500            Drink        11.60          low fat         0.040946   \n",
       "3912           Drink        11.60          low fat         0.040748   \n",
       "5081           Drink        11.60          low fat         0.041010   \n",
       "1211           Drink        19.35          regular         0.040009   \n",
       "2847           Drink        19.35          regular         0.040091   \n",
       "\n",
       "        Item_Type  Item_MRP Outlet_Identifier  Outlet_Size  \\\n",
       "500   Soft Drinks  142.9154            OUT046            1   \n",
       "3912  Soft Drinks  140.0154            OUT027            2   \n",
       "5081  Soft Drinks  141.0154            OUT049            2   \n",
       "1211  Soft Drinks  163.2868            OUT045            1   \n",
       "2847  Soft Drinks  163.6868            OUT018            2   \n",
       "\n",
       "     Outlet_Location_Type        Outlet_Type  \n",
       "500                Tier 1  Supermarket Type1  \n",
       "3912               Tier 3  Supermarket Type3  \n",
       "5081               Tier 1  Supermarket Type1  \n",
       "1211               Tier 2  Supermarket Type1  \n",
       "2847               Tier 3  Supermarket Type2  "
      ]
     },
     "execution_count": 82,
     "metadata": {},
     "output_type": "execute_result"
    }
   ],
   "source": [
    "df_test.head()"
   ]
  },
  {
   "cell_type": "code",
   "execution_count": 83,
   "id": "840d5074",
   "metadata": {},
   "outputs": [
    {
     "data": {
      "text/plain": [
       "Fruits and Vegetables    1232\n",
       "Snack Foods              1199\n",
       "Household                 910\n",
       "Frozen Foods              855\n",
       "Dairy                     681\n",
       "Canned                    649\n",
       "Baking Goods              647\n",
       "Health and Hygiene        520\n",
       "Soft Drinks               445\n",
       "Meat                      425\n",
       "Breads                    251\n",
       "Hard Drinks               214\n",
       "Others                    169\n",
       "Starchy Foods             148\n",
       "Breakfast                 110\n",
       "Seafood                    64\n",
       "Name: Item_Type, dtype: int64"
      ]
     },
     "execution_count": 83,
     "metadata": {},
     "output_type": "execute_result"
    }
   ],
   "source": [
    "df[\"Item_Type\"].value_counts()"
   ]
  },
  {
   "cell_type": "code",
   "execution_count": 84,
   "id": "660fcfac",
   "metadata": {},
   "outputs": [
    {
     "name": "stderr",
     "output_type": "stream",
     "text": [
      "C:\\Users\\41779\\anaconda3\\lib\\site-packages\\seaborn\\_decorators.py:36: FutureWarning: Pass the following variables as keyword args: x, y. From version 0.12, the only valid positional argument will be `data`, and passing other arguments without an explicit keyword will result in an error or misinterpretation.\n",
      "  warnings.warn(\n"
     ]
    },
    {
     "data": {
      "text/plain": [
       "<AxesSubplot:xlabel='Item_Type', ylabel='Item_Outlet_Sales'>"
      ]
     },
     "execution_count": 84,
     "metadata": {},
     "output_type": "execute_result"
    },
    {
     "data": {
      "image/png": "[encoded data removed]",
      "text/plain": [
       "<Figure size 1080x576 with 1 Axes>"
      ]
     },
     "metadata": {
      "needs_background": "light"
     },
     "output_type": "display_data"
    }
   ],
   "source": [
    "plt.figure(figsize=(15,8))\n",
    "sns.boxplot(\"Item_Type\",\"Item_Outlet_Sales\",data=df)"
   ]
  },
  {
   "cell_type": "code",
   "execution_count": 85,
   "id": "b664a17c",
   "metadata": {},
   "outputs": [],
   "source": [
    "item_count = df[\"Item_Type\"].value_counts()"
   ]
  },
  {
   "cell_type": "code",
   "execution_count": 86,
   "id": "75ce1c7d",
   "metadata": {},
   "outputs": [],
   "source": [
    "item_less_25 = item_count[item_count<=251]"
   ]
  },
  {
   "cell_type": "code",
   "execution_count": 87,
   "id": "6bf1abf2",
   "metadata": {},
   "outputs": [
    {
     "data": {
      "text/plain": [
       "Breads           251\n",
       "Hard Drinks      214\n",
       "Others           169\n",
       "Starchy Foods    148\n",
       "Breakfast        110\n",
       "Seafood           64\n",
       "Name: Item_Type, dtype: int64"
      ]
     },
     "execution_count": 87,
     "metadata": {},
     "output_type": "execute_result"
    }
   ],
   "source": [
    "item_less_25"
   ]
  },
  {
   "cell_type": "code",
   "execution_count": 88,
   "id": "e382bee0",
   "metadata": {},
   "outputs": [],
   "source": [
    "def item_seperation(x):\n",
    "    if x in item_less_25:\n",
    "        return \"others\"\n",
    "    else:\n",
    "        return x"
   ]
  },
  {
   "cell_type": "code",
   "execution_count": 89,
   "id": "10a7bbf9",
   "metadata": {},
   "outputs": [],
   "source": [
    "df[\"Item_Type\"] = df[\"Item_Type\"].apply(item_seperation)"
   ]
  },
  {
   "cell_type": "code",
   "execution_count": 90,
   "id": "daa990fa",
   "metadata": {},
   "outputs": [
    {
     "name": "stderr",
     "output_type": "stream",
     "text": [
      "C:\\Users\\41779\\anaconda3\\lib\\site-packages\\seaborn\\_decorators.py:36: FutureWarning: Pass the following variables as keyword args: x, y. From version 0.12, the only valid positional argument will be `data`, and passing other arguments without an explicit keyword will result in an error or misinterpretation.\n",
      "  warnings.warn(\n"
     ]
    },
    {
     "data": {
      "text/plain": [
       "<AxesSubplot:xlabel='Item_Type', ylabel='Item_Outlet_Sales'>"
      ]
     },
     "execution_count": 90,
     "metadata": {},
     "output_type": "execute_result"
    },
    {
     "data": {
      "image/png": "[encoded data removed]",
      "text/plain": [
       "<Figure size 1080x576 with 1 Axes>"
      ]
     },
     "metadata": {
      "needs_background": "light"
     },
     "output_type": "display_data"
    }
   ],
   "source": [
    "plt.figure(figsize=(15,8))\n",
    "sns.boxplot(\"Item_Type\",\"Item_Outlet_Sales\",data=df)"
   ]
  },
  {
   "cell_type": "code",
   "execution_count": 91,
   "id": "a3d7e5c6",
   "metadata": {},
   "outputs": [
    {
     "name": "stderr",
     "output_type": "stream",
     "text": [
      "C:\\Users\\41779\\anaconda3\\lib\\site-packages\\seaborn\\_decorators.py:36: FutureWarning: Pass the following variables as keyword args: x, y. From version 0.12, the only valid positional argument will be `data`, and passing other arguments without an explicit keyword will result in an error or misinterpretation.\n",
      "  warnings.warn(\n"
     ]
    },
    {
     "data": {
      "text/plain": [
       "<AxesSubplot:xlabel='Item_Fat_Content', ylabel='Item_Outlet_Sales'>"
      ]
     },
     "execution_count": 91,
     "metadata": {},
     "output_type": "execute_result"
    },
    {
     "data": {
      "image/png": "[encoded data removed]",
      "text/plain": [
       "<Figure size 1080x576 with 1 Axes>"
      ]
     },
     "metadata": {
      "needs_background": "light"
     },
     "output_type": "display_data"
    }
   ],
   "source": [
    "plt.figure(figsize=(15,8))\n",
    "sns.boxplot(\"Item_Fat_Content\",\"Item_Outlet_Sales\",data=df)"
   ]
  },
  {
   "cell_type": "code",
   "execution_count": 92,
   "id": "8d805cbd",
   "metadata": {},
   "outputs": [
    {
     "data": {
      "text/plain": [
       "<matplotlib.collections.PathCollection at 0x24e5c135fa0>"
      ]
     },
     "execution_count": 92,
     "metadata": {},
     "output_type": "execute_result"
    },
    {
     "data": {
      "image/png": "[encoded data removed]",
      "text/plain": [
       "<Figure size 1080x576 with 1 Axes>"
      ]
     },
     "metadata": {
      "needs_background": "light"
     },
     "output_type": "display_data"
    }
   ],
   "source": [
    "plt.figure(figsize=(15,8))\n",
    "plt.scatter(\"Item_Visibility\",\"Item_Outlet_Sales\",data=df)\n"
   ]
  },
  {
   "cell_type": "code",
   "execution_count": 93,
   "id": "b89fbf1d",
   "metadata": {},
   "outputs": [
    {
     "data": {
      "text/plain": [
       "Fruits and Vegetables    1232\n",
       "Snack Foods              1199\n",
       "others                    956\n",
       "Household                 910\n",
       "Frozen Foods              855\n",
       "Dairy                     681\n",
       "Canned                    649\n",
       "Baking Goods              647\n",
       "Health and Hygiene        520\n",
       "Soft Drinks               445\n",
       "Meat                      425\n",
       "Name: Item_Type, dtype: int64"
      ]
     },
     "execution_count": 93,
     "metadata": {},
     "output_type": "execute_result"
    }
   ],
   "source": [
    "df[\"Item_Type\"].value_counts()"
   ]
  },
  {
   "cell_type": "code",
   "execution_count": 94,
   "id": "3c46c394",
   "metadata": {},
   "outputs": [
    {
     "data": {
      "text/html": [
       "<div>\n",
       "<style scoped>\n",
       "    .dataframe tbody tr th:only-of-type {\n",
       "        vertical-align: middle;\n",
       "    }\n",
       "\n",
       "    .dataframe tbody tr th {\n",
       "        vertical-align: top;\n",
       "    }\n",
       "\n",
       "    .dataframe thead th {\n",
       "        text-align: right;\n",
       "    }\n",
       "</style>\n",
       "<table border=\"1\" class=\"dataframe\">\n",
       "  <thead>\n",
       "    <tr style=\"text-align: right;\">\n",
       "      <th></th>\n",
       "      <th>Item_Identifier</th>\n",
       "      <th>Item_Weight</th>\n",
       "      <th>Item_Fat_Content</th>\n",
       "      <th>Item_Visibility</th>\n",
       "      <th>Item_Type</th>\n",
       "      <th>Item_MRP</th>\n",
       "      <th>Outlet_Identifier</th>\n",
       "      <th>Outlet_Size</th>\n",
       "      <th>Outlet_Location_Type</th>\n",
       "      <th>Outlet_Type</th>\n",
       "      <th>Item_Outlet_Sales</th>\n",
       "    </tr>\n",
       "  </thead>\n",
       "  <tbody>\n",
       "    <tr>\n",
       "      <th>118</th>\n",
       "      <td>Drink</td>\n",
       "      <td>11.6</td>\n",
       "      <td>low fat</td>\n",
       "      <td>0.041178</td>\n",
       "      <td>Soft Drinks</td>\n",
       "      <td>140.3154</td>\n",
       "      <td>OUT017</td>\n",
       "      <td>1</td>\n",
       "      <td>Tier 2</td>\n",
       "      <td>Supermarket Type1</td>\n",
       "      <td>2552.6772</td>\n",
       "    </tr>\n",
       "    <tr>\n",
       "      <th>1197</th>\n",
       "      <td>Drink</td>\n",
       "      <td>11.6</td>\n",
       "      <td>low fat</td>\n",
       "      <td>0.066112</td>\n",
       "      <td>Soft Drinks</td>\n",
       "      <td>141.6154</td>\n",
       "      <td>OUT045</td>\n",
       "      <td>1</td>\n",
       "      <td>Tier 2</td>\n",
       "      <td>Supermarket Type1</td>\n",
       "      <td>3829.0158</td>\n",
       "    </tr>\n",
       "    <tr>\n",
       "      <th>1245</th>\n",
       "      <td>Drink</td>\n",
       "      <td>11.6</td>\n",
       "      <td>low fat</td>\n",
       "      <td>0.040912</td>\n",
       "      <td>Soft Drinks</td>\n",
       "      <td>142.3154</td>\n",
       "      <td>OUT013</td>\n",
       "      <td>3</td>\n",
       "      <td>Tier 3</td>\n",
       "      <td>Supermarket Type1</td>\n",
       "      <td>2552.6772</td>\n",
       "    </tr>\n",
       "    <tr>\n",
       "      <th>1693</th>\n",
       "      <td>Drink</td>\n",
       "      <td>11.6</td>\n",
       "      <td>low fat</td>\n",
       "      <td>0.066112</td>\n",
       "      <td>Soft Drinks</td>\n",
       "      <td>141.9154</td>\n",
       "      <td>OUT035</td>\n",
       "      <td>1</td>\n",
       "      <td>Tier 2</td>\n",
       "      <td>Supermarket Type1</td>\n",
       "      <td>992.7078</td>\n",
       "    </tr>\n",
       "    <tr>\n",
       "      <th>7467</th>\n",
       "      <td>Drink</td>\n",
       "      <td>11.6</td>\n",
       "      <td>low fat</td>\n",
       "      <td>0.041113</td>\n",
       "      <td>Soft Drinks</td>\n",
       "      <td>142.0154</td>\n",
       "      <td>OUT018</td>\n",
       "      <td>2</td>\n",
       "      <td>Tier 3</td>\n",
       "      <td>Supermarket Type2</td>\n",
       "      <td>850.8924</td>\n",
       "    </tr>\n",
       "  </tbody>\n",
       "</table>\n",
       "</div>"
      ],
      "text/plain": [
       "     Item_Identifier  Item_Weight Item_Fat_Content  Item_Visibility  \\\n",
       "118            Drink         11.6          low fat         0.041178   \n",
       "1197           Drink         11.6          low fat         0.066112   \n",
       "1245           Drink         11.6          low fat         0.040912   \n",
       "1693           Drink         11.6          low fat         0.066112   \n",
       "7467           Drink         11.6          low fat         0.041113   \n",
       "\n",
       "        Item_Type  Item_MRP Outlet_Identifier  Outlet_Size  \\\n",
       "118   Soft Drinks  140.3154            OUT017            1   \n",
       "1197  Soft Drinks  141.6154            OUT045            1   \n",
       "1245  Soft Drinks  142.3154            OUT013            3   \n",
       "1693  Soft Drinks  141.9154            OUT035            1   \n",
       "7467  Soft Drinks  142.0154            OUT018            2   \n",
       "\n",
       "     Outlet_Location_Type        Outlet_Type  Item_Outlet_Sales  \n",
       "118                Tier 2  Supermarket Type1          2552.6772  \n",
       "1197               Tier 2  Supermarket Type1          3829.0158  \n",
       "1245               Tier 3  Supermarket Type1          2552.6772  \n",
       "1693               Tier 2  Supermarket Type1           992.7078  \n",
       "7467               Tier 3  Supermarket Type2           850.8924  "
      ]
     },
     "execution_count": 94,
     "metadata": {},
     "output_type": "execute_result"
    }
   ],
   "source": [
    "df.head()"
   ]
  },
  {
   "cell_type": "code",
   "execution_count": 95,
   "id": "04485b28",
   "metadata": {},
   "outputs": [
    {
     "data": {
      "text/plain": [
       "array(['Soft Drinks', 'Dairy', 'Hard Drinks', 'Canned',\n",
       "       'Fruits and Vegetables', 'Snack Foods', 'Baking Goods',\n",
       "       'Frozen Foods', 'Starchy Foods', 'Meat', 'Seafood', 'Breakfast',\n",
       "       'Breads', 'Health and Hygiene', 'Household', 'Others'],\n",
       "      dtype=object)"
      ]
     },
     "execution_count": 95,
     "metadata": {},
     "output_type": "execute_result"
    }
   ],
   "source": [
    "df_test[\"Item_Type\"].unique()"
   ]
  },
  {
   "cell_type": "code",
   "execution_count": 96,
   "id": "9a5d1b8e",
   "metadata": {},
   "outputs": [],
   "source": [
    "df_test[\"Item_Type\"] = df_test[\"Item_Type\"].apply(item_seperation)"
   ]
  },
  {
   "cell_type": "code",
   "execution_count": 97,
   "id": "0d4ef996",
   "metadata": {},
   "outputs": [],
   "source": [
    "df['Item_Outlet_Sales'] = np.log(1+df['Item_Outlet_Sales'])"
   ]
  },
  {
   "cell_type": "code",
   "execution_count": 98,
   "id": "022abf15",
   "metadata": {},
   "outputs": [],
   "source": [
    "df_dmy_idntfr = pd.get_dummies(df[\"Item_Identifier\"])\n",
    "df_dmy_fat = pd.get_dummies(df[\"Item_Fat_Content\"])\n",
    "df_dmy_item_type = pd.get_dummies(df[\"Item_Type\"])\n",
    "\n",
    "df_dmy_outlc = pd.get_dummies(df[\"Outlet_Location_Type\"])\n",
    "df_dmy_outyp = pd.get_dummies(df[\"Outlet_Type\"])\n",
    "df_dmy_outfier = pd.get_dummies(df[\"Outlet_Identifier\"])"
   ]
  },
  {
   "cell_type": "code",
   "execution_count": 99,
   "id": "29218658",
   "metadata": {},
   "outputs": [],
   "source": [
    "df = pd.concat([df,df_dmy_fat,df_dmy_idntfr,df_dmy_item_type,df_dmy_outlc,df_dmy_outyp,df_dmy_outfier],axis=1)"
   ]
  },
  {
   "cell_type": "code",
   "execution_count": 100,
   "id": "dd91c309",
   "metadata": {},
   "outputs": [],
   "source": [
    "df = df.drop([\"Item_Identifier\",\"Item_Fat_Content\",\"Item_Type\",\"Outlet_Identifier\",\"Outlet_Location_Type\",\"Outlet_Type\"],axis=1)"
   ]
  },
  {
   "cell_type": "code",
   "execution_count": 101,
   "id": "e4bdb54c",
   "metadata": {},
   "outputs": [
    {
     "data": {
      "text/html": [
       "<div>\n",
       "<style scoped>\n",
       "    .dataframe tbody tr th:only-of-type {\n",
       "        vertical-align: middle;\n",
       "    }\n",
       "\n",
       "    .dataframe tbody tr th {\n",
       "        vertical-align: top;\n",
       "    }\n",
       "\n",
       "    .dataframe thead th {\n",
       "        text-align: right;\n",
       "    }\n",
       "</style>\n",
       "<table border=\"1\" class=\"dataframe\">\n",
       "  <thead>\n",
       "    <tr style=\"text-align: right;\">\n",
       "      <th></th>\n",
       "      <th>Item_Weight</th>\n",
       "      <th>Item_Visibility</th>\n",
       "      <th>Item_MRP</th>\n",
       "      <th>Outlet_Size</th>\n",
       "      <th>Item_Outlet_Sales</th>\n",
       "      <th>Non_Edible</th>\n",
       "      <th>low fat</th>\n",
       "      <th>regular</th>\n",
       "      <th>Drink</th>\n",
       "      <th>Food</th>\n",
       "      <th>...</th>\n",
       "      <th>OUT010</th>\n",
       "      <th>OUT013</th>\n",
       "      <th>OUT017</th>\n",
       "      <th>OUT018</th>\n",
       "      <th>OUT019</th>\n",
       "      <th>OUT027</th>\n",
       "      <th>OUT035</th>\n",
       "      <th>OUT045</th>\n",
       "      <th>OUT046</th>\n",
       "      <th>OUT049</th>\n",
       "    </tr>\n",
       "  </thead>\n",
       "  <tbody>\n",
       "    <tr>\n",
       "      <th>118</th>\n",
       "      <td>11.60</td>\n",
       "      <td>0.041178</td>\n",
       "      <td>140.3154</td>\n",
       "      <td>1</td>\n",
       "      <td>7.845290</td>\n",
       "      <td>0</td>\n",
       "      <td>1</td>\n",
       "      <td>0</td>\n",
       "      <td>1</td>\n",
       "      <td>0</td>\n",
       "      <td>...</td>\n",
       "      <td>0</td>\n",
       "      <td>0</td>\n",
       "      <td>1</td>\n",
       "      <td>0</td>\n",
       "      <td>0</td>\n",
       "      <td>0</td>\n",
       "      <td>0</td>\n",
       "      <td>0</td>\n",
       "      <td>0</td>\n",
       "      <td>0</td>\n",
       "    </tr>\n",
       "    <tr>\n",
       "      <th>1197</th>\n",
       "      <td>11.60</td>\n",
       "      <td>0.066112</td>\n",
       "      <td>141.6154</td>\n",
       "      <td>1</td>\n",
       "      <td>8.250624</td>\n",
       "      <td>0</td>\n",
       "      <td>1</td>\n",
       "      <td>0</td>\n",
       "      <td>1</td>\n",
       "      <td>0</td>\n",
       "      <td>...</td>\n",
       "      <td>0</td>\n",
       "      <td>0</td>\n",
       "      <td>0</td>\n",
       "      <td>0</td>\n",
       "      <td>0</td>\n",
       "      <td>0</td>\n",
       "      <td>0</td>\n",
       "      <td>1</td>\n",
       "      <td>0</td>\n",
       "      <td>0</td>\n",
       "    </tr>\n",
       "    <tr>\n",
       "      <th>1245</th>\n",
       "      <td>11.60</td>\n",
       "      <td>0.040912</td>\n",
       "      <td>142.3154</td>\n",
       "      <td>3</td>\n",
       "      <td>7.845290</td>\n",
       "      <td>0</td>\n",
       "      <td>1</td>\n",
       "      <td>0</td>\n",
       "      <td>1</td>\n",
       "      <td>0</td>\n",
       "      <td>...</td>\n",
       "      <td>0</td>\n",
       "      <td>1</td>\n",
       "      <td>0</td>\n",
       "      <td>0</td>\n",
       "      <td>0</td>\n",
       "      <td>0</td>\n",
       "      <td>0</td>\n",
       "      <td>0</td>\n",
       "      <td>0</td>\n",
       "      <td>0</td>\n",
       "    </tr>\n",
       "    <tr>\n",
       "      <th>1693</th>\n",
       "      <td>11.60</td>\n",
       "      <td>0.066112</td>\n",
       "      <td>141.9154</td>\n",
       "      <td>1</td>\n",
       "      <td>6.901443</td>\n",
       "      <td>0</td>\n",
       "      <td>1</td>\n",
       "      <td>0</td>\n",
       "      <td>1</td>\n",
       "      <td>0</td>\n",
       "      <td>...</td>\n",
       "      <td>0</td>\n",
       "      <td>0</td>\n",
       "      <td>0</td>\n",
       "      <td>0</td>\n",
       "      <td>0</td>\n",
       "      <td>0</td>\n",
       "      <td>1</td>\n",
       "      <td>0</td>\n",
       "      <td>0</td>\n",
       "      <td>0</td>\n",
       "    </tr>\n",
       "    <tr>\n",
       "      <th>7467</th>\n",
       "      <td>11.60</td>\n",
       "      <td>0.041113</td>\n",
       "      <td>142.0154</td>\n",
       "      <td>2</td>\n",
       "      <td>6.747460</td>\n",
       "      <td>0</td>\n",
       "      <td>1</td>\n",
       "      <td>0</td>\n",
       "      <td>1</td>\n",
       "      <td>0</td>\n",
       "      <td>...</td>\n",
       "      <td>0</td>\n",
       "      <td>0</td>\n",
       "      <td>0</td>\n",
       "      <td>1</td>\n",
       "      <td>0</td>\n",
       "      <td>0</td>\n",
       "      <td>0</td>\n",
       "      <td>0</td>\n",
       "      <td>0</td>\n",
       "      <td>0</td>\n",
       "    </tr>\n",
       "    <tr>\n",
       "      <th>...</th>\n",
       "      <td>...</td>\n",
       "      <td>...</td>\n",
       "      <td>...</td>\n",
       "      <td>...</td>\n",
       "      <td>...</td>\n",
       "      <td>...</td>\n",
       "      <td>...</td>\n",
       "      <td>...</td>\n",
       "      <td>...</td>\n",
       "      <td>...</td>\n",
       "      <td>...</td>\n",
       "      <td>...</td>\n",
       "      <td>...</td>\n",
       "      <td>...</td>\n",
       "      <td>...</td>\n",
       "      <td>...</td>\n",
       "      <td>...</td>\n",
       "      <td>...</td>\n",
       "      <td>...</td>\n",
       "      <td>...</td>\n",
       "      <td>...</td>\n",
       "    </tr>\n",
       "    <tr>\n",
       "      <th>1969</th>\n",
       "      <td>14.65</td>\n",
       "      <td>0.083528</td>\n",
       "      <td>162.4552</td>\n",
       "      <td>1</td>\n",
       "      <td>7.729899</td>\n",
       "      <td>1</td>\n",
       "      <td>0</td>\n",
       "      <td>0</td>\n",
       "      <td>0</td>\n",
       "      <td>0</td>\n",
       "      <td>...</td>\n",
       "      <td>0</td>\n",
       "      <td>0</td>\n",
       "      <td>0</td>\n",
       "      <td>0</td>\n",
       "      <td>0</td>\n",
       "      <td>0</td>\n",
       "      <td>0</td>\n",
       "      <td>1</td>\n",
       "      <td>0</td>\n",
       "      <td>0</td>\n",
       "    </tr>\n",
       "    <tr>\n",
       "      <th>2839</th>\n",
       "      <td>14.65</td>\n",
       "      <td>0.083359</td>\n",
       "      <td>161.9552</td>\n",
       "      <td>1</td>\n",
       "      <td>8.457910</td>\n",
       "      <td>1</td>\n",
       "      <td>0</td>\n",
       "      <td>0</td>\n",
       "      <td>0</td>\n",
       "      <td>0</td>\n",
       "      <td>...</td>\n",
       "      <td>0</td>\n",
       "      <td>0</td>\n",
       "      <td>0</td>\n",
       "      <td>0</td>\n",
       "      <td>0</td>\n",
       "      <td>0</td>\n",
       "      <td>0</td>\n",
       "      <td>0</td>\n",
       "      <td>1</td>\n",
       "      <td>0</td>\n",
       "    </tr>\n",
       "    <tr>\n",
       "      <th>7166</th>\n",
       "      <td>14.65</td>\n",
       "      <td>0.145952</td>\n",
       "      <td>160.9552</td>\n",
       "      <td>1</td>\n",
       "      <td>5.096539</td>\n",
       "      <td>1</td>\n",
       "      <td>0</td>\n",
       "      <td>0</td>\n",
       "      <td>0</td>\n",
       "      <td>0</td>\n",
       "      <td>...</td>\n",
       "      <td>0</td>\n",
       "      <td>0</td>\n",
       "      <td>0</td>\n",
       "      <td>0</td>\n",
       "      <td>1</td>\n",
       "      <td>0</td>\n",
       "      <td>0</td>\n",
       "      <td>0</td>\n",
       "      <td>0</td>\n",
       "      <td>0</td>\n",
       "    </tr>\n",
       "    <tr>\n",
       "      <th>7738</th>\n",
       "      <td>14.65</td>\n",
       "      <td>0.083699</td>\n",
       "      <td>163.4552</td>\n",
       "      <td>2</td>\n",
       "      <td>7.863376</td>\n",
       "      <td>1</td>\n",
       "      <td>0</td>\n",
       "      <td>0</td>\n",
       "      <td>0</td>\n",
       "      <td>0</td>\n",
       "      <td>...</td>\n",
       "      <td>0</td>\n",
       "      <td>0</td>\n",
       "      <td>0</td>\n",
       "      <td>1</td>\n",
       "      <td>0</td>\n",
       "      <td>0</td>\n",
       "      <td>0</td>\n",
       "      <td>0</td>\n",
       "      <td>0</td>\n",
       "      <td>0</td>\n",
       "    </tr>\n",
       "    <tr>\n",
       "      <th>7926</th>\n",
       "      <td>14.65</td>\n",
       "      <td>0.083489</td>\n",
       "      <td>161.3552</td>\n",
       "      <td>2</td>\n",
       "      <td>8.874732</td>\n",
       "      <td>1</td>\n",
       "      <td>0</td>\n",
       "      <td>0</td>\n",
       "      <td>0</td>\n",
       "      <td>0</td>\n",
       "      <td>...</td>\n",
       "      <td>0</td>\n",
       "      <td>0</td>\n",
       "      <td>0</td>\n",
       "      <td>0</td>\n",
       "      <td>0</td>\n",
       "      <td>0</td>\n",
       "      <td>0</td>\n",
       "      <td>0</td>\n",
       "      <td>0</td>\n",
       "      <td>1</td>\n",
       "    </tr>\n",
       "  </tbody>\n",
       "</table>\n",
       "<p>8519 rows × 39 columns</p>\n",
       "</div>"
      ],
      "text/plain": [
       "      Item_Weight  Item_Visibility  Item_MRP  Outlet_Size  Item_Outlet_Sales  \\\n",
       "118         11.60         0.041178  140.3154            1           7.845290   \n",
       "1197        11.60         0.066112  141.6154            1           8.250624   \n",
       "1245        11.60         0.040912  142.3154            3           7.845290   \n",
       "1693        11.60         0.066112  141.9154            1           6.901443   \n",
       "7467        11.60         0.041113  142.0154            2           6.747460   \n",
       "...           ...              ...       ...          ...                ...   \n",
       "1969        14.65         0.083528  162.4552            1           7.729899   \n",
       "2839        14.65         0.083359  161.9552            1           8.457910   \n",
       "7166        14.65         0.145952  160.9552            1           5.096539   \n",
       "7738        14.65         0.083699  163.4552            2           7.863376   \n",
       "7926        14.65         0.083489  161.3552            2           8.874732   \n",
       "\n",
       "      Non_Edible  low fat  regular  Drink  Food  ...  OUT010  OUT013  OUT017  \\\n",
       "118            0        1        0      1     0  ...       0       0       1   \n",
       "1197           0        1        0      1     0  ...       0       0       0   \n",
       "1245           0        1        0      1     0  ...       0       1       0   \n",
       "1693           0        1        0      1     0  ...       0       0       0   \n",
       "7467           0        1        0      1     0  ...       0       0       0   \n",
       "...          ...      ...      ...    ...   ...  ...     ...     ...     ...   \n",
       "1969           1        0        0      0     0  ...       0       0       0   \n",
       "2839           1        0        0      0     0  ...       0       0       0   \n",
       "7166           1        0        0      0     0  ...       0       0       0   \n",
       "7738           1        0        0      0     0  ...       0       0       0   \n",
       "7926           1        0        0      0     0  ...       0       0       0   \n",
       "\n",
       "      OUT018  OUT019  OUT027  OUT035  OUT045  OUT046  OUT049  \n",
       "118        0       0       0       0       0       0       0  \n",
       "1197       0       0       0       0       1       0       0  \n",
       "1245       0       0       0       0       0       0       0  \n",
       "1693       0       0       0       1       0       0       0  \n",
       "7467       1       0       0       0       0       0       0  \n",
       "...      ...     ...     ...     ...     ...     ...     ...  \n",
       "1969       0       0       0       0       1       0       0  \n",
       "2839       0       0       0       0       0       1       0  \n",
       "7166       0       1       0       0       0       0       0  \n",
       "7738       1       0       0       0       0       0       0  \n",
       "7926       0       0       0       0       0       0       1  \n",
       "\n",
       "[8519 rows x 39 columns]"
      ]
     },
     "execution_count": 101,
     "metadata": {},
     "output_type": "execute_result"
    }
   ],
   "source": [
    "df"
   ]
  },
  {
   "cell_type": "code",
   "execution_count": 102,
   "id": "aba66cc5",
   "metadata": {},
   "outputs": [
    {
     "data": {
      "text/plain": [
       "Index(['Item_Identifier', 'Item_Weight', 'Item_Fat_Content', 'Item_Visibility',\n",
       "       'Item_Type', 'Item_MRP', 'Outlet_Identifier', 'Outlet_Size',\n",
       "       'Outlet_Location_Type', 'Outlet_Type'],\n",
       "      dtype='object')"
      ]
     },
     "execution_count": 102,
     "metadata": {},
     "output_type": "execute_result"
    }
   ],
   "source": [
    "df_test.columns"
   ]
  },
  {
   "cell_type": "code",
   "execution_count": 103,
   "id": "0578bdba",
   "metadata": {},
   "outputs": [],
   "source": [
    "test_dmy_idntfr = pd.get_dummies(df_test[\"Item_Identifier\"])\n",
    "test_dmy_fat = pd.get_dummies(df_test[\"Item_Fat_Content\"])\n",
    "test_dmy_item_type = pd.get_dummies(df_test[\"Item_Type\"])\n",
    "test_dmy_outlc = pd.get_dummies(df_test[\"Outlet_Location_Type\"])\n",
    "test_dmy_outyp = pd.get_dummies(df_test[\"Outlet_Type\"])\n",
    "test_dmy_outfier = pd.get_dummies(df_test[\"Outlet_Identifier\"])"
   ]
  },
  {
   "cell_type": "code",
   "execution_count": 104,
   "id": "0c646c50",
   "metadata": {},
   "outputs": [],
   "source": [
    "df_test = pd.concat([df_test,test_dmy_fat,test_dmy_idntfr,test_dmy_item_type,test_dmy_outlc,test_dmy_outyp,test_dmy_outfier],axis=1)"
   ]
  },
  {
   "cell_type": "code",
   "execution_count": 105,
   "id": "5aa39683",
   "metadata": {},
   "outputs": [],
   "source": [
    "df_test = df_test.drop([\"Item_Identifier\",\"Item_Fat_Content\",\"Item_Type\",\"Outlet_Identifier\",\"Outlet_Location_Type\",\"Outlet_Type\"],axis=1)"
   ]
  },
  {
   "cell_type": "code",
   "execution_count": 106,
   "id": "11c0df86",
   "metadata": {},
   "outputs": [
    {
     "data": {
      "text/plain": [
       "Index(['Item_Weight', 'Item_Visibility', 'Item_MRP', 'Outlet_Size',\n",
       "       'Item_Outlet_Sales', 'Non_Edible', 'low fat', 'regular', 'Drink',\n",
       "       'Food', 'Non_consumable', 'Baking Goods', 'Canned', 'Dairy',\n",
       "       'Frozen Foods', 'Fruits and Vegetables', 'Health and Hygiene',\n",
       "       'Household', 'Meat', 'Snack Foods', 'Soft Drinks', 'others', 'Tier 1',\n",
       "       'Tier 2', 'Tier 3', 'Grocery Store', 'Supermarket Type1',\n",
       "       'Supermarket Type2', 'Supermarket Type3', 'OUT010', 'OUT013', 'OUT017',\n",
       "       'OUT018', 'OUT019', 'OUT027', 'OUT035', 'OUT045', 'OUT046', 'OUT049'],\n",
       "      dtype='object')"
      ]
     },
     "execution_count": 106,
     "metadata": {},
     "output_type": "execute_result"
    }
   ],
   "source": [
    "df.columns"
   ]
  },
  {
   "cell_type": "code",
   "execution_count": 107,
   "id": "9784f0d6",
   "metadata": {},
   "outputs": [
    {
     "data": {
      "text/plain": [
       "Index(['Item_Weight', 'Item_Visibility', 'Item_MRP', 'Outlet_Size',\n",
       "       'Non_Edible', 'low fat', 'regular', 'Drink', 'Food', 'Non_consumable',\n",
       "       'Baking Goods', 'Canned', 'Dairy', 'Frozen Foods',\n",
       "       'Fruits and Vegetables', 'Health and Hygiene', 'Household', 'Meat',\n",
       "       'Snack Foods', 'Soft Drinks', 'others', 'Tier 1', 'Tier 2', 'Tier 3',\n",
       "       'Grocery Store', 'Supermarket Type1', 'Supermarket Type2',\n",
       "       'Supermarket Type3', 'OUT010', 'OUT013', 'OUT017', 'OUT018', 'OUT019',\n",
       "       'OUT027', 'OUT035', 'OUT045', 'OUT046', 'OUT049'],\n",
       "      dtype='object')"
      ]
     },
     "execution_count": 107,
     "metadata": {},
     "output_type": "execute_result"
    }
   ],
   "source": [
    "df_test.columns"
   ]
  },
  {
   "cell_type": "code",
   "execution_count": 108,
   "id": "2c16e0f3",
   "metadata": {},
   "outputs": [
    {
     "data": {
      "text/plain": [
       "<matplotlib.collections.PathCollection at 0x24e5c369310>"
      ]
     },
     "execution_count": 108,
     "metadata": {},
     "output_type": "execute_result"
    },
    {
     "data": {
      "image/png": "[encoded data removed]",
      "text/plain": [
       "<Figure size 864x576 with 1 Axes>"
      ]
     },
     "metadata": {
      "needs_background": "light"
     },
     "output_type": "display_data"
    }
   ],
   "source": [
    "plt.figure(figsize=(12,8))\n",
    "plt.scatter(\"Item_Weight\",\"Item_Outlet_Sales\",data=df)"
   ]
  },
  {
   "cell_type": "code",
   "execution_count": 109,
   "id": "94e66f98",
   "metadata": {},
   "outputs": [
    {
     "data": {
      "text/plain": [
       "<matplotlib.collections.PathCollection at 0x24e5c59e610>"
      ]
     },
     "execution_count": 109,
     "metadata": {},
     "output_type": "execute_result"
    },
    {
     "data": {
      "image/png": "[encoded data removed]",
      "text/plain": [
       "<Figure size 864x576 with 1 Axes>"
      ]
     },
     "metadata": {
      "needs_background": "light"
     },
     "output_type": "display_data"
    }
   ],
   "source": [
    "plt.figure(figsize=(12,8))\n",
    "plt.scatter(\"Item_MRP\",\"Item_Outlet_Sales\",data=df)"
   ]
  },
  {
   "cell_type": "code",
   "execution_count": 110,
   "id": "5d8942b1",
   "metadata": {},
   "outputs": [
    {
     "data": {
      "text/plain": [
       "8519"
      ]
     },
     "execution_count": 110,
     "metadata": {},
     "output_type": "execute_result"
    }
   ],
   "source": [
    "len(df)"
   ]
  },
  {
   "cell_type": "code",
   "execution_count": 111,
   "id": "071660c1",
   "metadata": {},
   "outputs": [
    {
     "data": {
      "text/plain": [
       "5661"
      ]
     },
     "execution_count": 111,
     "metadata": {},
     "output_type": "execute_result"
    }
   ],
   "source": [
    "len(df_test)"
   ]
  },
  {
   "cell_type": "code",
   "execution_count": 112,
   "id": "05bc900c",
   "metadata": {},
   "outputs": [
    {
     "data": {
      "text/plain": [
       "<matplotlib.collections.PathCollection at 0x24e5c749280>"
      ]
     },
     "execution_count": 112,
     "metadata": {},
     "output_type": "execute_result"
    },
    {
     "data": {
      "image/png": "[encoded data removed]",
      "text/plain": [
       "<Figure size 864x576 with 1 Axes>"
      ]
     },
     "metadata": {
      "needs_background": "light"
     },
     "output_type": "display_data"
    }
   ],
   "source": [
    "plt.figure(figsize=(12,8))\n",
    "plt.scatter(\"Item_MRP\",\"Item_Outlet_Sales\",data=df)"
   ]
  },
  {
   "cell_type": "code",
   "execution_count": 113,
   "id": "83467f9d",
   "metadata": {},
   "outputs": [],
   "source": [
    "X = df.drop(\"Item_Outlet_Sales\",axis=1)\n",
    "y = df[[\"Item_Outlet_Sales\"]]"
   ]
  },
  {
   "cell_type": "code",
   "execution_count": 114,
   "id": "1f4bbdbc",
   "metadata": {},
   "outputs": [],
   "source": [
    "from sklearn.model_selection import train_test_split\n"
   ]
  },
  {
   "cell_type": "code",
   "execution_count": 115,
   "id": "8418b18e",
   "metadata": {},
   "outputs": [],
   "source": [
    "X_train,X_test,y_train,y_test = train_test_split(X,y,test_size=0.3,random_state=101)"
   ]
  },
  {
   "cell_type": "code",
   "execution_count": 116,
   "id": "ee24d53b",
   "metadata": {},
   "outputs": [
    {
     "data": {
      "text/plain": [
       "(5963, 38)"
      ]
     },
     "execution_count": 116,
     "metadata": {},
     "output_type": "execute_result"
    }
   ],
   "source": [
    "X_train.shape"
   ]
  },
  {
   "cell_type": "code",
   "execution_count": 117,
   "id": "722e8bed",
   "metadata": {},
   "outputs": [
    {
     "data": {
      "text/plain": [
       "(5963, 1)"
      ]
     },
     "execution_count": 117,
     "metadata": {},
     "output_type": "execute_result"
    }
   ],
   "source": [
    "y_train.shape"
   ]
  },
  {
   "cell_type": "code",
   "execution_count": 118,
   "id": "d1a59af3",
   "metadata": {},
   "outputs": [
    {
     "data": {
      "text/plain": [
       "(2556, 38)"
      ]
     },
     "execution_count": 118,
     "metadata": {},
     "output_type": "execute_result"
    }
   ],
   "source": [
    "X_test.shape"
   ]
  },
  {
   "cell_type": "code",
   "execution_count": 119,
   "id": "b079f833",
   "metadata": {},
   "outputs": [
    {
     "data": {
      "text/plain": [
       "(2556, 1)"
      ]
     },
     "execution_count": 119,
     "metadata": {},
     "output_type": "execute_result"
    }
   ],
   "source": [
    "y_test.shape"
   ]
  },
  {
   "cell_type": "code",
   "execution_count": 120,
   "id": "33738d51",
   "metadata": {},
   "outputs": [],
   "source": [
    "from sklearn.linear_model import LinearRegression\n"
   ]
  },
  {
   "cell_type": "code",
   "execution_count": 121,
   "id": "68a82056",
   "metadata": {},
   "outputs": [
    {
     "data": {
      "text/plain": [
       "LinearRegression()"
      ]
     },
     "execution_count": 121,
     "metadata": {},
     "output_type": "execute_result"
    }
   ],
   "source": [
    "model = LinearRegression()\n",
    "\n",
    "model.fit(X_train,y_train)"
   ]
  },
  {
   "cell_type": "code",
   "execution_count": 122,
   "id": "807cd369",
   "metadata": {},
   "outputs": [
    {
     "name": "stdout",
     "output_type": "stream",
     "text": [
      "Coefficients: \n",
      " [[ 1.07175416e-04 -8.67217635e-02  8.43048047e-03  2.37645130e-01\n",
      "  -7.67704125e-03 -7.52097622e-03  1.51980175e-02 -9.10175252e-03\n",
      "   1.67787938e-02 -7.67704125e-03 -1.91746320e-03  3.52249118e-02\n",
      "  -7.82794390e-02 -4.29080705e-02 -3.64411856e-03  5.07979319e-02\n",
      "   4.88153403e-03  7.82937405e-03 -4.00711002e-03  1.94283551e-02\n",
      "   1.25940944e-02 -7.14262578e-02  1.63905972e-01 -9.24797140e-02\n",
      "  -8.80075156e-01  3.25026585e-01  1.01869302e-01  4.53179269e-01\n",
      "  -4.50161099e-01 -1.97367186e-01  6.35364894e-02  1.01869302e-01\n",
      "  -4.29914057e-01  4.53179269e-01  9.30338615e-02  7.33562091e-03\n",
      "   2.81156868e-01  7.73309307e-02]]\n"
     ]
    }
   ],
   "source": [
    "print('Coefficients: \\n', model.coef_)"
   ]
  },
  {
   "cell_type": "code",
   "execution_count": 123,
   "id": "effb68d7",
   "metadata": {},
   "outputs": [],
   "source": [
    "predictions = model.predict(X_test)"
   ]
  },
  {
   "cell_type": "code",
   "execution_count": 124,
   "id": "c6226883",
   "metadata": {},
   "outputs": [
    {
     "data": {
      "text/plain": [
       "Text(0, 0.5, 'Predicted Y')"
      ]
     },
     "execution_count": 124,
     "metadata": {},
     "output_type": "execute_result"
    },
    {
     "data": {
      "image/png": "[encoded data removed]",
      "text/plain": [
       "<Figure size 432x288 with 1 Axes>"
      ]
     },
     "metadata": {
      "needs_background": "light"
     },
     "output_type": "display_data"
    }
   ],
   "source": [
    "plt.scatter(y_test,predictions)\n",
    "plt.xlabel('Y Test')\n",
    "plt.ylabel('Predicted Y')"
   ]
  },
  {
   "cell_type": "code",
   "execution_count": 125,
   "id": "42346fc9",
   "metadata": {},
   "outputs": [
    {
     "name": "stdout",
     "output_type": "stream",
     "text": [
      "MAE: 0.41400918432174655\n",
      "MSE: 0.2850914169402831\n",
      "RMSE: 0.5339395255459958\n"
     ]
    }
   ],
   "source": [
    "from sklearn import metrics\n",
    "\n",
    "print('MAE:', metrics.mean_absolute_error(y_test, predictions))\n",
    "print('MSE:', metrics.mean_squared_error(y_test, predictions))\n",
    "print('RMSE:', np.sqrt(metrics.mean_squared_error(y_test, predictions)))"
   ]
  },
  {
   "cell_type": "code",
   "execution_count": 126,
   "id": "f91bd26c",
   "metadata": {},
   "outputs": [
    {
     "data": {
      "text/plain": [
       "0.7189659578726153"
      ]
     },
     "execution_count": 126,
     "metadata": {},
     "output_type": "execute_result"
    }
   ],
   "source": [
    "model.score(X_train,y_train)"
   ]
  },
  {
   "cell_type": "code",
   "execution_count": 127,
   "id": "029e996c",
   "metadata": {},
   "outputs": [
    {
     "data": {
      "text/plain": [
       "0.7248806259929758"
      ]
     },
     "execution_count": 127,
     "metadata": {},
     "output_type": "execute_result"
    }
   ],
   "source": [
    "model.score(X_test,y_test)"
   ]
  },
  {
   "cell_type": "code",
   "execution_count": 128,
   "id": "fdf47c58",
   "metadata": {},
   "outputs": [
    {
     "data": {
      "text/plain": [
       "array([[7.51673771],\n",
       "       [8.00907327],\n",
       "       [7.53453347],\n",
       "       ...,\n",
       "       [7.72216531],\n",
       "       [7.62369595],\n",
       "       [7.67407863]])"
      ]
     },
     "execution_count": 128,
     "metadata": {},
     "output_type": "execute_result"
    }
   ],
   "source": [
    "model.predict(df_test)"
   ]
  },
  {
   "cell_type": "code",
   "execution_count": 129,
   "id": "cf92415d",
   "metadata": {},
   "outputs": [
    {
     "data": {
      "text/plain": [
       "Index(['Item_Weight', 'Item_Visibility', 'Item_MRP', 'Outlet_Size',\n",
       "       'Non_Edible', 'low fat', 'regular', 'Drink', 'Food', 'Non_consumable',\n",
       "       'Baking Goods', 'Canned', 'Dairy', 'Frozen Foods',\n",
       "       'Fruits and Vegetables', 'Health and Hygiene', 'Household', 'Meat',\n",
       "       'Snack Foods', 'Soft Drinks', 'others', 'Tier 1', 'Tier 2', 'Tier 3',\n",
       "       'Grocery Store', 'Supermarket Type1', 'Supermarket Type2',\n",
       "       'Supermarket Type3', 'OUT010', 'OUT013', 'OUT017', 'OUT018', 'OUT019',\n",
       "       'OUT027', 'OUT035', 'OUT045', 'OUT046', 'OUT049'],\n",
       "      dtype='object')"
      ]
     },
     "execution_count": 129,
     "metadata": {},
     "output_type": "execute_result"
    }
   ],
   "source": [
    "X.columns"
   ]
  },
  {
   "cell_type": "code",
   "execution_count": 130,
   "id": "901daf17",
   "metadata": {},
   "outputs": [],
   "source": [
    "def sales_pred(wgt,vis,mrp,out_sz,fat_con,itm_idntfr,itm_typ,loc_typ,out_typ,out_idf):\n",
    "    input = np.zeros(len(X.columns))\n",
    "    print(input)\n",
    "    input[0]=wgt\n",
    "    input[1]=vis\n",
    "    input[2]=mrp\n",
    "    input[3]=out_sz\n",
    "    \n",
    "    locf=np.where(X.columns == fat_con)\n",
    "    locidnfr=np.where(X.columns == itm_idntfr)\n",
    "    locityp=np.where(X.columns == itm_typ)\n",
    "    loctyp=np.where(X.columns == loc_typ)\n",
    "    loco=np.where(X.columns == out_typ)\n",
    "    locidf=np.where(X.columns == out_idf)\n",
    "    \n",
    "    input[locf]=1\n",
    "    input[locidnfr]=1\n",
    "    input[locityp]=1\n",
    "    input[loctyp]=1\n",
    "    input[loco]=1\n",
    "    input[locidf]=1\n",
    "    \n",
    "    return model.predict([input])"
   ]
  },
  {
   "cell_type": "code",
   "execution_count": 131,
   "id": "dd00b0e2",
   "metadata": {},
   "outputs": [
    {
     "data": {
      "text/plain": [
       "Item_Weight               7.970000\n",
       "Item_Visibility           0.040071\n",
       "Item_MRP                 87.351400\n",
       "Outlet_Size               1.000000\n",
       "Non_Edible                0.000000\n",
       "low fat                   0.000000\n",
       "regular                   1.000000\n",
       "Drink                     0.000000\n",
       "Food                      1.000000\n",
       "Non_consumable            0.000000\n",
       "Baking Goods              0.000000\n",
       "Canned                    0.000000\n",
       "Dairy                     0.000000\n",
       "Frozen Foods              0.000000\n",
       "Fruits and Vegetables     0.000000\n",
       "Health and Hygiene        0.000000\n",
       "Household                 0.000000\n",
       "Meat                      1.000000\n",
       "Snack Foods               0.000000\n",
       "Soft Drinks               0.000000\n",
       "others                    0.000000\n",
       "Tier 1                    0.000000\n",
       "Tier 2                    1.000000\n",
       "Tier 3                    0.000000\n",
       "Grocery Store             0.000000\n",
       "Supermarket Type1         1.000000\n",
       "Supermarket Type2         0.000000\n",
       "Supermarket Type3         0.000000\n",
       "OUT010                    0.000000\n",
       "OUT013                    0.000000\n",
       "OUT017                    0.000000\n",
       "OUT018                    0.000000\n",
       "OUT019                    0.000000\n",
       "OUT027                    0.000000\n",
       "OUT035                    0.000000\n",
       "OUT045                    1.000000\n",
       "OUT046                    0.000000\n",
       "OUT049                    0.000000\n",
       "Name: 61, dtype: float64"
      ]
     },
     "execution_count": 131,
     "metadata": {},
     "output_type": "execute_result"
    }
   ],
   "source": [
    "X_train.loc[61]"
   ]
  },
  {
   "cell_type": "code",
   "execution_count": 131,
   "id": "114a4398",
   "metadata": {},
   "outputs": [
    {
     "name": "stdout",
     "output_type": "stream",
     "text": [
      "[0. 0. 0. 0. 0. 0. 0. 0. 0. 0. 0. 0. 0. 0. 0. 0. 0. 0. 0. 0. 0. 0. 0. 0.\n",
      " 0. 0. 0. 0. 0. 0. 0. 0. 0. 0. 0. 0. 0. 0.]\n"
     ]
    },
    {
     "data": {
      "text/plain": [
       "array([[7.04649921]])"
      ]
     },
     "execution_count": 131,
     "metadata": {},
     "output_type": "execute_result"
    }
   ],
   "source": [
    "sales_pred(7.97,0.04,87.35,1,\"regular\",\"Food\",\"Meat\",\"Tier 2\",\"Supermarket Type1\",\"OUT045\")"
   ]
  },
  {
   "cell_type": "code",
   "execution_count": 135,
   "id": "8a5946ce",
   "metadata": {},
   "outputs": [],
   "source": [
    "importances = pd.DataFrame(data={\n",
    "    'Attribute': X_train.columns,\n",
    "    'Importance': model.coef_[0]\n",
    "})\n",
    "importances = importances.sort_values(by='Importance', ascending=False)"
   ]
  },
  {
   "cell_type": "code",
   "execution_count": 136,
   "id": "c9ec3d34",
   "metadata": {},
   "outputs": [
    {
     "data": {
      "text/html": [
       "<div>\n",
       "<style scoped>\n",
       "    .dataframe tbody tr th:only-of-type {\n",
       "        vertical-align: middle;\n",
       "    }\n",
       "\n",
       "    .dataframe tbody tr th {\n",
       "        vertical-align: top;\n",
       "    }\n",
       "\n",
       "    .dataframe thead th {\n",
       "        text-align: right;\n",
       "    }\n",
       "</style>\n",
       "<table border=\"1\" class=\"dataframe\">\n",
       "  <thead>\n",
       "    <tr style=\"text-align: right;\">\n",
       "      <th></th>\n",
       "      <th>Attribute</th>\n",
       "      <th>Importance</th>\n",
       "    </tr>\n",
       "  </thead>\n",
       "  <tbody>\n",
       "    <tr>\n",
       "      <th>33</th>\n",
       "      <td>OUT027</td>\n",
       "      <td>0.453179</td>\n",
       "    </tr>\n",
       "    <tr>\n",
       "      <th>27</th>\n",
       "      <td>Supermarket Type3</td>\n",
       "      <td>0.453179</td>\n",
       "    </tr>\n",
       "    <tr>\n",
       "      <th>25</th>\n",
       "      <td>Supermarket Type1</td>\n",
       "      <td>0.325027</td>\n",
       "    </tr>\n",
       "    <tr>\n",
       "      <th>36</th>\n",
       "      <td>OUT046</td>\n",
       "      <td>0.281157</td>\n",
       "    </tr>\n",
       "    <tr>\n",
       "      <th>3</th>\n",
       "      <td>Outlet_Size</td>\n",
       "      <td>0.237645</td>\n",
       "    </tr>\n",
       "    <tr>\n",
       "      <th>22</th>\n",
       "      <td>Tier 2</td>\n",
       "      <td>0.163906</td>\n",
       "    </tr>\n",
       "    <tr>\n",
       "      <th>26</th>\n",
       "      <td>Supermarket Type2</td>\n",
       "      <td>0.101869</td>\n",
       "    </tr>\n",
       "    <tr>\n",
       "      <th>31</th>\n",
       "      <td>OUT018</td>\n",
       "      <td>0.101869</td>\n",
       "    </tr>\n",
       "    <tr>\n",
       "      <th>34</th>\n",
       "      <td>OUT035</td>\n",
       "      <td>0.093034</td>\n",
       "    </tr>\n",
       "    <tr>\n",
       "      <th>37</th>\n",
       "      <td>OUT049</td>\n",
       "      <td>0.077331</td>\n",
       "    </tr>\n",
       "    <tr>\n",
       "      <th>30</th>\n",
       "      <td>OUT017</td>\n",
       "      <td>0.063536</td>\n",
       "    </tr>\n",
       "    <tr>\n",
       "      <th>15</th>\n",
       "      <td>Health and Hygiene</td>\n",
       "      <td>0.050798</td>\n",
       "    </tr>\n",
       "    <tr>\n",
       "      <th>11</th>\n",
       "      <td>Canned</td>\n",
       "      <td>0.035225</td>\n",
       "    </tr>\n",
       "    <tr>\n",
       "      <th>19</th>\n",
       "      <td>Soft Drinks</td>\n",
       "      <td>0.019428</td>\n",
       "    </tr>\n",
       "    <tr>\n",
       "      <th>8</th>\n",
       "      <td>Food</td>\n",
       "      <td>0.016779</td>\n",
       "    </tr>\n",
       "    <tr>\n",
       "      <th>6</th>\n",
       "      <td>regular</td>\n",
       "      <td>0.015198</td>\n",
       "    </tr>\n",
       "    <tr>\n",
       "      <th>20</th>\n",
       "      <td>others</td>\n",
       "      <td>0.012594</td>\n",
       "    </tr>\n",
       "    <tr>\n",
       "      <th>2</th>\n",
       "      <td>Item_MRP</td>\n",
       "      <td>0.008430</td>\n",
       "    </tr>\n",
       "    <tr>\n",
       "      <th>17</th>\n",
       "      <td>Meat</td>\n",
       "      <td>0.007829</td>\n",
       "    </tr>\n",
       "    <tr>\n",
       "      <th>35</th>\n",
       "      <td>OUT045</td>\n",
       "      <td>0.007336</td>\n",
       "    </tr>\n",
       "    <tr>\n",
       "      <th>16</th>\n",
       "      <td>Household</td>\n",
       "      <td>0.004882</td>\n",
       "    </tr>\n",
       "    <tr>\n",
       "      <th>0</th>\n",
       "      <td>Item_Weight</td>\n",
       "      <td>0.000107</td>\n",
       "    </tr>\n",
       "    <tr>\n",
       "      <th>10</th>\n",
       "      <td>Baking Goods</td>\n",
       "      <td>-0.001917</td>\n",
       "    </tr>\n",
       "    <tr>\n",
       "      <th>14</th>\n",
       "      <td>Fruits and Vegetables</td>\n",
       "      <td>-0.003644</td>\n",
       "    </tr>\n",
       "    <tr>\n",
       "      <th>18</th>\n",
       "      <td>Snack Foods</td>\n",
       "      <td>-0.004007</td>\n",
       "    </tr>\n",
       "    <tr>\n",
       "      <th>5</th>\n",
       "      <td>low fat</td>\n",
       "      <td>-0.007521</td>\n",
       "    </tr>\n",
       "    <tr>\n",
       "      <th>4</th>\n",
       "      <td>Non_Edible</td>\n",
       "      <td>-0.007677</td>\n",
       "    </tr>\n",
       "    <tr>\n",
       "      <th>9</th>\n",
       "      <td>Non_consumable</td>\n",
       "      <td>-0.007677</td>\n",
       "    </tr>\n",
       "    <tr>\n",
       "      <th>7</th>\n",
       "      <td>Drink</td>\n",
       "      <td>-0.009102</td>\n",
       "    </tr>\n",
       "    <tr>\n",
       "      <th>13</th>\n",
       "      <td>Frozen Foods</td>\n",
       "      <td>-0.042908</td>\n",
       "    </tr>\n",
       "    <tr>\n",
       "      <th>21</th>\n",
       "      <td>Tier 1</td>\n",
       "      <td>-0.071426</td>\n",
       "    </tr>\n",
       "    <tr>\n",
       "      <th>12</th>\n",
       "      <td>Dairy</td>\n",
       "      <td>-0.078279</td>\n",
       "    </tr>\n",
       "    <tr>\n",
       "      <th>1</th>\n",
       "      <td>Item_Visibility</td>\n",
       "      <td>-0.086722</td>\n",
       "    </tr>\n",
       "    <tr>\n",
       "      <th>23</th>\n",
       "      <td>Tier 3</td>\n",
       "      <td>-0.092480</td>\n",
       "    </tr>\n",
       "    <tr>\n",
       "      <th>29</th>\n",
       "      <td>OUT013</td>\n",
       "      <td>-0.197367</td>\n",
       "    </tr>\n",
       "    <tr>\n",
       "      <th>32</th>\n",
       "      <td>OUT019</td>\n",
       "      <td>-0.429914</td>\n",
       "    </tr>\n",
       "    <tr>\n",
       "      <th>28</th>\n",
       "      <td>OUT010</td>\n",
       "      <td>-0.450161</td>\n",
       "    </tr>\n",
       "    <tr>\n",
       "      <th>24</th>\n",
       "      <td>Grocery Store</td>\n",
       "      <td>-0.880075</td>\n",
       "    </tr>\n",
       "  </tbody>\n",
       "</table>\n",
       "</div>"
      ],
      "text/plain": [
       "                Attribute  Importance\n",
       "33                 OUT027    0.453179\n",
       "27      Supermarket Type3    0.453179\n",
       "25      Supermarket Type1    0.325027\n",
       "36                 OUT046    0.281157\n",
       "3             Outlet_Size    0.237645\n",
       "22                 Tier 2    0.163906\n",
       "26      Supermarket Type2    0.101869\n",
       "31                 OUT018    0.101869\n",
       "34                 OUT035    0.093034\n",
       "37                 OUT049    0.077331\n",
       "30                 OUT017    0.063536\n",
       "15     Health and Hygiene    0.050798\n",
       "11                 Canned    0.035225\n",
       "19            Soft Drinks    0.019428\n",
       "8                    Food    0.016779\n",
       "6                 regular    0.015198\n",
       "20                 others    0.012594\n",
       "2                Item_MRP    0.008430\n",
       "17                   Meat    0.007829\n",
       "35                 OUT045    0.007336\n",
       "16              Household    0.004882\n",
       "0             Item_Weight    0.000107\n",
       "10           Baking Goods   -0.001917\n",
       "14  Fruits and Vegetables   -0.003644\n",
       "18            Snack Foods   -0.004007\n",
       "5                 low fat   -0.007521\n",
       "4              Non_Edible   -0.007677\n",
       "9          Non_consumable   -0.007677\n",
       "7                   Drink   -0.009102\n",
       "13           Frozen Foods   -0.042908\n",
       "21                 Tier 1   -0.071426\n",
       "12                  Dairy   -0.078279\n",
       "1         Item_Visibility   -0.086722\n",
       "23                 Tier 3   -0.092480\n",
       "29                 OUT013   -0.197367\n",
       "32                 OUT019   -0.429914\n",
       "28                 OUT010   -0.450161\n",
       "24          Grocery Store   -0.880075"
      ]
     },
     "execution_count": 136,
     "metadata": {},
     "output_type": "execute_result"
    }
   ],
   "source": [
    "importances"
   ]
  },
  {
   "cell_type": "code",
   "execution_count": 141,
   "id": "0a88ce82",
   "metadata": {},
   "outputs": [
    {
     "data": {
      "image/png": "[encoded data removed]",
      "text/plain": [
       "<Figure size 1080x576 with 1 Axes>"
      ]
     },
     "metadata": {
      "needs_background": "light"
     },
     "output_type": "display_data"
    }
   ],
   "source": [
    "plt.figure(figsize=(15,8))\n",
    "plt.bar(x=importances['Attribute'], height=importances['Importance'], color='#087E8B')\n",
    "plt.title('Feature importances obtained from coefficients', size=20)\n",
    "plt.xticks(rotation='vertical')\n",
    "plt.show()"
   ]
  },
  {
   "cell_type": "code",
   "execution_count": 132,
   "id": "68088e5d",
   "metadata": {},
   "outputs": [],
   "source": [
    "import pickle"
   ]
  },
  {
   "cell_type": "code",
   "execution_count": 133,
   "id": "c2422c20",
   "metadata": {},
   "outputs": [],
   "source": [
    "with open('big_mart.pickle','wb') as f:\n",
    "    pickle.dump(model,f)"
   ]
  },
  {
   "cell_type": "code",
   "execution_count": 134,
   "id": "60ef5982",
   "metadata": {},
   "outputs": [],
   "source": [
    "import json"
   ]
  },
  {
   "cell_type": "code",
   "execution_count": 135,
   "id": "bcb161a7",
   "metadata": {},
   "outputs": [],
   "source": [
    "cols = {\"features\":[col.lower() for col in X.columns]}\n",
    "\n",
    "with open('big_mart_column.json','w') as k:\n",
    "    k.write(json.dumps(cols))"
   ]
  },
  {
   "cell_type": "code",
   "execution_count": 136,
   "id": "17b5afc5",
   "metadata": {},
   "outputs": [
    {
     "data": {
      "text/plain": [
       "{'features': ['item_weight',\n",
       "  'item_visibility',\n",
       "  'item_mrp',\n",
       "  'outlet_size',\n",
       "  'non_edible',\n",
       "  'low fat',\n",
       "  'regular',\n",
       "  'drink',\n",
       "  'food',\n",
       "  'non_consumable',\n",
       "  'baking goods',\n",
       "  'canned',\n",
       "  'dairy',\n",
       "  'frozen foods',\n",
       "  'fruits and vegetables',\n",
       "  'health and hygiene',\n",
       "  'household',\n",
       "  'meat',\n",
       "  'snack foods',\n",
       "  'soft drinks',\n",
       "  'others',\n",
       "  'tier 1',\n",
       "  'tier 2',\n",
       "  'tier 3',\n",
       "  'grocery store',\n",
       "  'supermarket type1',\n",
       "  'supermarket type2',\n",
       "  'supermarket type3',\n",
       "  'out010',\n",
       "  'out013',\n",
       "  'out017',\n",
       "  'out018',\n",
       "  'out019',\n",
       "  'out027',\n",
       "  'out035',\n",
       "  'out045',\n",
       "  'out046',\n",
       "  'out049']}"
      ]
     },
     "execution_count": 136,
     "metadata": {},
     "output_type": "execute_result"
    }
   ],
   "source": [
    "cols"
   ]
  },
  {
   "cell_type": "code",
   "execution_count": null,
   "id": "d73b8cbc",
   "metadata": {},
   "outputs": [],
   "source": []
  }
 ],
 "metadata": {
  "kernelspec": {
   "display_name": "Python 3 (ipykernel)",
   "language": "python",
   "name": "python3"
  },
  "language_info": {
   "codemirror_mode": {
    "name": "ipython",
    "version": 3
   },
   "file_extension": ".py",
   "mimetype": "text/x-python",
   "name": "python",
   "nbconvert_exporter": "python",
   "pygments_lexer": "ipython3",
   "version": "3.8.8"
  }
 },
 "nbformat": 4,
 "nbformat_minor": 5
}
